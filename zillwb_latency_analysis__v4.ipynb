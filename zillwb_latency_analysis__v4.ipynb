{
 "cells": [
  {
   "cell_type": "code",
   "execution_count": null,
   "metadata": {},
   "outputs": [],
   "source": [
    "import pandas as pd\n",
    "import glob\n",
    "import json\n",
    "import dotted # https://pypi.org/project/dotted-notation/\n",
    "import re\n",
    "import matplotlib.pyplot as plt\n",
    "import json\n",
    "\n",
    "from pathlib import Path\n",
    "import seaborn as sns"
   ]
  },
  {
   "cell_type": "code",
   "execution_count": null,
   "metadata": {},
   "outputs": [],
   "source": [
    "import lib.datasciencetoolbelt as dstools\n",
    "from lib.resultstorage import ResultStorage"
   ]
  },
  {
   "cell_type": "code",
   "execution_count": null,
   "metadata": {},
   "outputs": [],
   "source": [
    "savefig_enable = True\n",
    "seaborn_context = \"paper\"\n",
    "savefig_dir = \"./postprocess_results\"\n",
    "textwidth = 5.5 #inch"
   ]
  },
  {
   "cell_type": "code",
   "execution_count": null,
   "metadata": {},
   "outputs": [],
   "source": [
    "dstools.setup({\n",
    "    \"seaborn_context\": seaborn_context,\n",
    "    \"savefig\": {\n",
    "        \"enable\": savefig_enable,\n",
    "        \"dir\": Path(savefig_dir),\n",
    "    }\n",
    "})\n",
    "result_storage = ResultStorage(Path(\"./results\"))"
   ]
  },
  {
   "cell_type": "code",
   "execution_count": null,
   "metadata": {},
   "outputs": [],
   "source": [
    "id_vars__dottedpath_and_shortname_and_type = [\n",
    "#     ('result.identity', \"benchmark\", str),  \n",
    "    (\"storage_stack.identity\", \"storage_stack\", str),\n",
    "    (\"result.fio_config.numjobs\", \"numjobs\", int),\n",
    "]\n",
    "id_vars = [p[1] for p in id_vars__dottedpath_and_shortname_and_type]\n",
    "\n",
    "def extract_id_var_values(output_json):\n",
    "    d = output_json\n",
    "    id_var_values = {}\n",
    "    for dp, sn, ty in id_vars__dottedpath_and_shortname_and_type: \n",
    "        v = dotted.get(d, dp)\n",
    "        if not v:\n",
    "            raise Exception(f\"{d['file']}: dotted path {dp} not found\")\n",
    "        if sn in id_var_values:\n",
    "            raise Exception(f\"duplicate shortname {sn}\")\n",
    "        try:\n",
    "            id_var_values[sn] = ty(v)\n",
    "        except ValueError as e:\n",
    "            raise Exception(f\"cannot parse v={v!r}\") from e\n",
    "    return id_var_values\n",
    "\n",
    "\n",
    "def get_fio_write_metrics(output_json):\n",
    "    d = output_json\n",
    "    jobs = dotted.get(d, \"fio_jsonplus.jobs\")\n",
    "    assert len(jobs) == 1\n",
    "    j0 = jobs[0]\n",
    "    jw = jobs[0][\"write\"]\n",
    "    return {\n",
    "        \"w_iops_mean\": jw[\"iops_mean\"],\n",
    "        \"w_iops_stddev\": jw[\"iops_stddev\"],\n",
    "        \"w_lat_mean\": dotted.get(jw, \"lat_ns.mean\"),\n",
    "        \"w_lat_stddev\": dotted.get(jw, \"lat_ns.stddev\"),\n",
    "    }\n",
    "\n",
    "\n",
    "def to_row_dict(output_json):\n",
    "    try:\n",
    "        r = {}\n",
    "        for k, v in dotted.get(output_json, \"result.latency_analysis\").items():\n",
    "            assert k[0] == '@'\n",
    "            k = k[1:] # strip leading @\n",
    "            assert k not in r\n",
    "            r[k] = v\n",
    "\n",
    "        r = {\n",
    "            **extract_id_var_values(output_json),\n",
    "            \"fio_metrics\": get_fio_write_metrics(output_json['result']),\n",
    "            \n",
    "            # cpu stats\n",
    "            \"cpu\": output_json[\"result\"][\"cpu_time\"][\"allcpu\"],\n",
    "            **r,\n",
    "        }\n",
    "        return r\n",
    "    except:\n",
    "        print(json.dumps(output_json))\n",
    "        raise\n",
    "\n",
    "rows = [to_row_dict(j) for j in result_storage.iter_results(\"zillwb_latency_analysis__v4\")]"
   ]
  },
  {
   "cell_type": "code",
   "execution_count": null,
   "metadata": {},
   "outputs": [],
   "source": [
    "df = pd.DataFrame.from_dict(rows)\n",
    "df = df.set_index(id_vars)\n",
    "df = df.sort_index()\n",
    "display(df)\n",
    "# display(df / 1_000_000)\n",
    "# compute zfs write breakdown"
   ]
  },
  {
   "cell_type": "markdown",
   "metadata": {},
   "source": [
    "### Separate FIO and CPU Dataframes"
   ]
  },
  {
   "cell_type": "code",
   "execution_count": null,
   "metadata": {},
   "outputs": [],
   "source": [
    "tmp = df.copy()\n",
    "df_fio = tmp['fio_metrics'].apply(pd.Series)\n",
    "df_fio['iops_from_latency'] = 1_000_000_000 / df_fio.w_lat_mean * df_fio.index.to_frame()['numjobs']\n",
    "df_fio['latency_from_iops'] = 1_000_000_000 / (df_fio.w_iops_mean / df_fio.index.to_frame()['numjobs'])\n",
    "df_fio"
   ]
  },
  {
   "cell_type": "code",
   "execution_count": null,
   "metadata": {},
   "outputs": [],
   "source": [
    "tmp = df.copy()\n",
    "tmp = tmp['cpu'].apply(pd.Series)\n",
    "display(tmp)\n",
    "# display(tmp)\n",
    "cpu_total = tmp.sum(axis=1)\n",
    "tmp['not_idle'] = cpu_total - tmp.idle\n",
    "# second socket was disabled => half of total cpu time is idle time\n",
    "tmp['utilization'] = tmp.not_idle / (cpu_total - (cpu_total/2))\n",
    "tmp"
   ]
  },
  {
   "cell_type": "markdown",
   "metadata": {},
   "source": [
    "### Remove `fio_metrics` and `cpu` from `df`"
   ]
  },
  {
   "cell_type": "code",
   "execution_count": null,
   "metadata": {},
   "outputs": [],
   "source": [
    "del df['fio_metrics']\n",
    "del df['cpu']"
   ]
  },
  {
   "cell_type": "markdown",
   "metadata": {},
   "source": [
    "# Compute Latency Breakdown"
   ]
  },
  {
   "cell_type": "code",
   "execution_count": null,
   "metadata": {},
   "outputs": [],
   "source": [
    "tmp = df.copy()\n",
    "\n",
    "\n",
    "tmp['async'] = tmp.zfs_write - tmp.zil_commit - tmp.zfs_log_write\n",
    "tmp['zillwb_other'] = tmp.zil_commit - (\n",
    "    tmp.zil_fill_commit_list \n",
    "    + tmp.zillwb_lwb_write_issue\n",
    "    + tmp.zillwb_commit_waiter__issue_cv\n",
    "    + tmp.zillwb_commit_waiter__timeout_cv\n",
    ")\n",
    "\n",
    "components = [\n",
    "    \"async\",\n",
    "    \"zfs_log_write\",\n",
    "    \"zil_fill_commit_list\",\n",
    "    \"zillwb_other\",\n",
    "    \"zillwb_lwb_write_issue\",\n",
    "    \"zillwb_commit_waiter__issue_cv\",\n",
    "    \"zillwb_commit_waiter__timeout_cv\",\n",
    "]\n",
    "\n",
    "# cummulative latencies\n",
    "df_latbreakdown = tmp[components]\n",
    "# per-write latencies\n",
    "df_latbreakdown = df_latbreakdown.div(tmp.zfs_write_count, axis=0)\n",
    "df_latbreakdown"
   ]
  },
  {
   "cell_type": "code",
   "execution_count": null,
   "metadata": {},
   "outputs": [],
   "source": [
    "relbreakdown = df_latbreakdown.copy()\n",
    "total = relbreakdown.sum(axis=1)\n",
    "relbreakdown = relbreakdown.div(total, axis=0)\n",
    "# display(relbreakdown)\n",
    "\n",
    "abs_breakdown = df_latbreakdown.copy()\n",
    "display(abs_breakdown)\n",
    "display(total)\n",
    "\n",
    "delta_fio_ebpf = df_fio.w_lat_mean - abs_breakdown.copy().sum(axis=1)"
   ]
  },
  {
   "cell_type": "code",
   "execution_count": null,
   "metadata": {
    "scrolled": false
   },
   "outputs": [],
   "source": [
    "rows = [\n",
    "    (\"relbreakdown\", \"Relative Latency Breakdown (eBPF)\"),\n",
    "    (\"abs_breakdown\", \"Latency Breakdown Per IOP (eBPF)\"),\n",
    "    (\"fio_latency_and_delta\", \"Latency Measured By Fio & Delta to eBPF\"),\n",
    "#     (\"measurement_error\", \"Latency Per IOPS Delta (fio - eBPF)\"), # covered by fio_latency_and_delta\n",
    "    \n",
    "    (\"iops\", \"iops\"),\n",
    "#     (\"avg_lwb_latency\", \"Avergage LWB Write Latency (eBPF)\")\n",
    "#     \"latency_std\",\n",
    "]\n",
    "    \n",
    "nrows = len(rows)\n",
    "ncols = 1\n",
    "g, axes = plt.subplots(nrows, ncols, squeeze=False,\n",
    "                       figsize=(textwidth ,4 * nrows),\n",
    "                       gridspec_kw = {'hspace': 0.4})\n",
    "\n",
    "for row in range(0, nrows):\n",
    "    for col in range(0, ncols):\n",
    "\n",
    "        storage_stack = {\n",
    "            0: 'zfs-lwb-rs_0',\n",
    "        }[col]\n",
    "\n",
    "        row_name, row_displayname = rows[row]\n",
    "\n",
    "        ax = axes[row, col]\n",
    "\n",
    "        try:\n",
    "\n",
    "            if row_name == \"relbreakdown\":\n",
    "                relbreakdown.loc[storage_stack, ].plot.bar(ax=ax, stacked=True, ylim=(0, 1.1), legend=False)\n",
    "                if col == ncols - 1:\n",
    "                    ax.legend(loc=\"center right\", ncol=2)\n",
    "            elif row_name == \"abs_breakdown\":\n",
    "                abs_breakdown.loc[storage_stack, ].plot.bar(ax=ax, stacked=True, legend=False)\n",
    "                if col == ncols - 1:\n",
    "                    ax.legend(loc=\"lower right\", ncol=2)\n",
    "            elif row_name == \"iops\":\n",
    "                df_fio.loc[storage_stack, \"w_iops_mean\"].plot(ax=ax)\n",
    "            elif row_name == \"fio_latency_and_delta\":\n",
    "                yerr = delta_fio_ebpf.loc[storage_stack, ]\n",
    "                df_fio.loc[storage_stack, \"latency_from_iops\"].plot.bar(ax=ax, yerr=yerr)\n",
    "            elif row_name == \"latency_std\":\n",
    "                df_fio.loc[storage_stack, \"w_lat_stddev\"].plot(ax=ax)\n",
    "            elif row_name == \"measurement_error\":\n",
    "                measurement_error.loc[storage_stack, ].plot.bar(ax=ax)\n",
    "            else:\n",
    "                raise Exception(f\"unknown row name {row_name}\")\n",
    "            ax.set_title(f\"{row_displayname}\")\n",
    "\n",
    "        except:\n",
    "            print(row_name)\n",
    "            raise"
   ]
  },
  {
   "cell_type": "code",
   "execution_count": null,
   "metadata": {},
   "outputs": [],
   "source": [
    "display(relbreakdown)\n",
    "display(abs_breakdown)"
   ]
  },
  {
   "cell_type": "code",
   "execution_count": null,
   "metadata": {},
   "outputs": [],
   "source": [
    "storage_stack = \"zfs-lwb-rs_0\"\n",
    "\n",
    "fig, axes = plt.subplots(2, figsize=(0.5 * textwidth, 3), gridspec_kw={\"hspace\":0.05})\n",
    "\n",
    "ax = axes[0]\n",
    "relbreakdown.mul(100).round(0).loc[storage_stack, ].plot.bar(\n",
    "    ax=ax, stacked=True, ylim=(0, 100), legend=False,\n",
    "    ylabel=\"Relative [%]\")    \n",
    "\n",
    "ax=axes[1]\n",
    "abs_breakdown.div(1_000).loc[storage_stack, ].plot.bar(\n",
    "    ax=ax, stacked=True, legend=False,\n",
    "    ylabel=\"Absolute [us]\"\n",
    ")            \n",
    "\n",
    "handles, labels = axes[1].get_legend_handles_labels()\n",
    "fig.legend(handles, labels, loc='center', title=\"Component\", bbox_to_anchor=(0.5, -0.2), ncol=2)\n",
    "fig.suptitle(\"Average IOP Latency Breakdown\", fontsize=9, y=0.95)\n",
    "\n",
    "axes[0].set_xlabel(\"\")\n",
    "axes[0].set_xticklabels([])\n",
    "\n",
    "dstools.savefig(\"zillwb_latency_analysis\")"
   ]
  },
  {
   "cell_type": "code",
   "execution_count": null,
   "metadata": {},
   "outputs": [],
   "source": []
  }
 ],
 "metadata": {
  "celltoolbar": "Tags",
  "kernelspec": {
   "display_name": "Python 3",
   "language": "python",
   "name": "python3"
  },
  "language_info": {
   "codemirror_mode": {
    "name": "ipython",
    "version": 3
   },
   "file_extension": ".py",
   "mimetype": "text/x-python",
   "name": "python",
   "nbconvert_exporter": "python",
   "pygments_lexer": "ipython3",
   "version": "3.9.2"
  }
 },
 "nbformat": 4,
 "nbformat_minor": 4
}
