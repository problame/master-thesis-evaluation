{
 "cells": [
  {
   "cell_type": "code",
   "execution_count": null,
   "metadata": {},
   "outputs": [],
   "source": [
    "import pandas as pd\n",
    "import glob\n",
    "import json\n",
    "import dotted # https://pypi.org/project/dotted-notation/\n",
    "import re\n",
    "import matplotlib.pyplot as plt\n",
    "\n",
    "from pathlib import Path\n",
    "import seaborn as sns\n",
    "import lib.datasciencetoolbelt as dstools\n",
    "from lib.resultstorage import ResultStorage"
   ]
  },
  {
   "cell_type": "code",
   "execution_count": null,
   "metadata": {},
   "outputs": [],
   "source": [
    "dstools.setup({\n",
    "    \"seaborn_context\": \"talk\",\n",
    "    \"savefig\": {\n",
    "        \"enable\": True,\n",
    "        \"dir\": Path(\"./postprocess_results\"),\n",
    "    }\n",
    "})\n",
    "result_storage = ResultStorage(Path(\"./results\"))\n",
    "\n",
    "#%matplotlib qt\n",
    "%matplotlib inline\n"
   ]
  },
  {
   "cell_type": "code",
   "execution_count": null,
   "metadata": {},
   "outputs": [],
   "source": [
    "result_storage_prefix = \"itxg_bypass_v4\"\n",
    "\n",
    "id_vars__dottedpath_and_shortname = [\n",
    "    (\"zfs_setup.module_args.zfs.zfs_zil_itxg_bypass\", \"itxg_bypass\"),\n",
    "    (\"zfs_setup.module_args.zfs.zvol_request_sync\", \"zvol_request_sync\"),\n",
    "    (\"fio_config.fsync_every\", \"fsync_every\"),\n",
    "    (\"fio_config.numjobs\", \"numjobs\")\n",
    "]\n",
    "id_vars = [p[1] for p in id_vars__dottedpath_and_shortname]\n",
    "\n",
    "def extract_id_var_values(output_json):\n",
    "    d = output_json\n",
    "    id_var_values = {}\n",
    "    for dp, sn in id_vars__dottedpath_and_shortname: \n",
    "        v = dotted.get(d, dp)\n",
    "        if not v:\n",
    "            raise Exception(f\"{d['file']}: dotted path {dp} not found\")\n",
    "        if sn in id_var_values:\n",
    "            raise Exception(f\"duplicate shortname {sn}\")\n",
    "        id_var_values[sn] = v\n",
    "    return id_var_values\n",
    "\n",
    "def get_fio_write_metrics(output_json):\n",
    "    d = output_json\n",
    "    jobs = dotted.get(d, \"fio_jsonplus.jobs\")\n",
    "    assert len(jobs) == 1\n",
    "    j0 = jobs[0]\n",
    "    jw = jobs[0][\"write\"]\n",
    "    return jw\n",
    "\n",
    "def to_fio_results_dict(output_json):\n",
    "    jw = get_fio_write_metrics(output_json)\n",
    "    return {\n",
    "        **extract_id_var_values(output_json),\n",
    "        \"w_iops_mean\": jw[\"iops_mean\"],\n",
    "        \"w_iops_stddev\": jw[\"iops_stddev\"],\n",
    "        \"w_lat_mean\": dotted.get(jw, \"lat_ns.mean\"),\n",
    "        \"w_lat_stddev\": dotted.get(jw, \"lat_ns.stddev\"),\n",
    "    }\n",
    "\n",
    "def to_kstat_results_dict(output_json):\n",
    "    d = output_json\n",
    "    return {\n",
    "        **extract_id_var_values(output_json),\n",
    "        **d[\"zvol_stats\"],\n",
    "        **d[\"itxg_bypass_stats\"],\n",
    "        \"bio_total\": d[\"zvol_stats\"][\"submit_bio__zvol_write(with_taskq_if_enabled)\"],\n",
    "        \"taskq_delay\": dotted.get(d, 'zvol_stats.zvol_write__taskq_qdelay'),\n",
    "        \"assign_aquire\": dotted.get(d, 'itxg_bypass_stats.assign__aquisition_total'),\n",
    "        \"assign_vtable\": dotted.get(d, 'itxg_bypass_stats.assign__vtable'),\n",
    "        \"assign_total\": dotted.get(d, 'itxg_bypass_stats.assign__total'),\n",
    "        \"commit_total\": dotted.get(d, 'itxg_bypass_stats.commit__total'),\n",
    "        \"commit_aquire\": dotted.get(d, 'itxg_bypass_stats.commit__aquire'),\n",
    "        \n",
    "    }\n",
    "\n",
    "def to_cpu_dict(output_json):\n",
    "    d = output_json\n",
    "    return {\n",
    "        **extract_id_var_values(output_json),\n",
    "        **{f\"cpu_{comp}\": val for comp, val in dotted.get(d, \"cpu_time.allcpu\").items()},\n",
    "    }"
   ]
  },
  {
   "cell_type": "code",
   "execution_count": null,
   "metadata": {},
   "outputs": [],
   "source": [
    "# compute `df_kstats`\n",
    "rows = [to_kstat_results_dict(j) for j in result_storage.iter_results(result_storage_prefix)]\n",
    "df_kstats = pd.DataFrame.from_dict(rows).set_index(id_vars).sort_index()"
   ]
  },
  {
   "cell_type": "code",
   "execution_count": null,
   "metadata": {},
   "outputs": [],
   "source": [
    "# compute `df_cpu`\n",
    "rows = [to_cpu_dict(j) for j in result_storage.iter_results(result_storage_prefix)]\n",
    "df = pd.DataFrame.from_dict(rows)\n",
    "df = df.set_index(id_vars).sort_index()\n",
    "df = df.rename_axis(\"metric\", axis=1)\n",
    "df = df.stack()\n",
    "df_cpu = df\n",
    "del df\n",
    "df_cpu"
   ]
  },
  {
   "cell_type": "code",
   "execution_count": null,
   "metadata": {},
   "outputs": [],
   "source": [
    "## derive `df_cpu.notidle`\n",
    "tmp = df_cpu.unstack(\"metric\")\n",
    "tmp[\"cpu_not_idle\"] = tmp.sum(axis=1) - tmp.cpu_idle\n",
    "df_cpu = tmp.stack()"
   ]
  },
  {
   "cell_type": "code",
   "execution_count": null,
   "metadata": {},
   "outputs": [],
   "source": [
    "# compute `df`\n",
    "rows = [to_fio_results_dict(j) for j in result_storage.iter_results(result_storage_prefix)]\n",
    "df = pd.DataFrame.from_dict(rows)\n",
    "df = df.set_index(id_vars).sort_index()\n",
    "df = df.rename_axis(\"metric\", axis=1)\n",
    "df = df.stack()\n",
    "df"
   ]
  },
  {
   "cell_type": "code",
   "execution_count": null,
   "metadata": {},
   "outputs": [],
   "source": [
    "# a quick peek on the actual data in `df`\n",
    "df.unstack(\"metric\")"
   ]
  },
  {
   "cell_type": "code",
   "execution_count": null,
   "metadata": {},
   "outputs": [],
   "source": [
    "# define df_zfssetup\n",
    "data = df.unstack([\"itxg_bypass\", \"zvol_request_sync\"])\n",
    "data.columns = data.columns.map(lambda x: f\"zil-pmem bypass={ {'1':'yes', '0': 'no'}[x[0]]} zvol_taskq={ {'1':'no', '0':'yes'}[x[1]] }\")\n",
    "data = data.rename_axis(\"zfs_setup\", axis=1)\n",
    "data = data.stack()\n",
    "data\n",
    "df_zfssetup = data\n",
    "del data"
   ]
  },
  {
   "cell_type": "markdown",
   "metadata": {},
   "source": [
    "#  Get An Idea Of CPU Utilization"
   ]
  },
  {
   "cell_type": "code",
   "execution_count": null,
   "metadata": {},
   "outputs": [],
   "source": [
    "tmp = df_cpu.unstack(\"metric\")\n",
    "total = tmp.cpu_not_idle + tmp.cpu_idle\n",
    "utilization = tmp.cpu_not_idle / total\n",
    "utilization *= 2 # we disabled socket 2 via isolcpus\n",
    "utilization = pd.DataFrame({\"utilization\": utilization})\n",
    "utilization"
   ]
  },
  {
   "cell_type": "code",
   "execution_count": null,
   "metadata": {},
   "outputs": [],
   "source": [
    "sns.relplot(data=utilization, height=8,\n",
    "            row='zvol_request_sync', col='itxg_bypass', x='numjobs', y='utilization', hue='fsync_every')"
   ]
  },
  {
   "cell_type": "markdown",
   "metadata": {},
   "source": [
    "# Analyze Perf "
   ]
  },
  {
   "cell_type": "markdown",
   "metadata": {},
   "source": [
    "##  All Data In One Plot"
   ]
  },
  {
   "cell_type": "code",
   "execution_count": null,
   "metadata": {
    "scrolled": false
   },
   "outputs": [],
   "source": [
    "sns.relplot(data=df_zfssetup.unstack([\"metric\"]).reset_index(),\n",
    "            height=12, kind='line',\n",
    "            style='fsync_every',\n",
    "            x ='numjobs', y='w_iops_mean', hue='zfs_setup')"
   ]
  },
  {
   "cell_type": "code",
   "execution_count": null,
   "metadata": {
    "scrolled": false
   },
   "outputs": [],
   "source": [
    "sns.relplot(data=df_zfssetup.unstack([\"metric\"]).reset_index(),\n",
    "            height=12, kind='line',\n",
    "            #style='fsync_every', !!!!!!!!!!!!!!!!!!!!!!!!!!!!!!!!!!!!!!!!!!!!!!!!!!!!!!!\n",
    "            x ='numjobs', y='w_iops_mean', hue='zfs_setup')"
   ]
  },
  {
   "cell_type": "markdown",
   "metadata": {},
   "source": [
    "## Influence of `fsync_every` on IOPS in different setups"
   ]
  },
  {
   "cell_type": "code",
   "execution_count": null,
   "metadata": {},
   "outputs": [],
   "source": [
    "# data = df.reset_index()\n",
    "# data[\"zfs_setup\"] = list(zip(data.itxg_bypass, data.zvol_request_sync))\n",
    "sns.relplot(data=df.unstack(\"metric\").reset_index(),\n",
    "            kind='line', height=6, col='zvol_request_sync', row='itxg_bypass',\n",
    "            hue='fsync_every', x ='numjobs', y='w_iops_mean')"
   ]
  },
  {
   "cell_type": "markdown",
   "metadata": {},
   "source": [
    "## IOPS comparison of the different setups for select numjobs"
   ]
  },
  {
   "cell_type": "code",
   "execution_count": null,
   "metadata": {
    "scrolled": false
   },
   "outputs": [],
   "source": [
    "# data = df.reset_index()\n",
    "# data[\"zfs_setup\"] = list(zip(data.itxg_bypass, data.zvol_request_sync))\n",
    "data = df_zfssetup.unstack(\"metric\").query('numjobs in [1,4,5,8,12,16]').reset_index()\n",
    "sns.relplot(data=data,\n",
    "            kind='line',\n",
    "            height=6, aspect=0.4,\n",
    "            hue='zfs_setup',\n",
    "            style='zfs_setup',\n",
    "            markers=True,\n",
    "            col='numjobs',\n",
    "            x ='fsync_every', y='w_iops_mean')\n",
    "sns.relplot(data=data,\n",
    "            kind='line',\n",
    "            height=6, aspect=0.4,\n",
    "            hue='zfs_setup',\n",
    "            style='zfs_setup',\n",
    "            markers=True,\n",
    "            col='numjobs',\n",
    "            x ='fsync_every', y='w_lat_mean',\n",
    "            facet_kws = {\"ylim\": (0, 100000)})"
   ]
  },
  {
   "cell_type": "markdown",
   "metadata": {
    "scrolled": false
   },
   "source": [
    "## Performance Impact Of ITXG Bypass"
   ]
  },
  {
   "cell_type": "code",
   "execution_count": null,
   "metadata": {
    "scrolled": false
   },
   "outputs": [],
   "source": [
    "#data = df.unstack(\"metric\").query('numjobs in [1,4,5,8,12,16]').reset_index()\n",
    "data = df.unstack(\"metric\").query('fsync_every in [1,4,16]').reset_index()\n",
    "g = sns.relplot(data=data,\n",
    "            kind='line',\n",
    "            height=5,\n",
    "            row='zvol_request_sync',\n",
    "            col='fsync_every',\n",
    "            style='itxg_bypass',\n",
    "            hue='itxg_bypass',\n",
    "            markers=True,\n",
    "            x ='numjobs', y='w_iops_mean')\n",
    "for (row_val, col_val), ax in g.axes_dict.items():\n",
    "    ax.set_title(f\"--fsync={col_val} zvrsync={row_val}\")\n",
    "# g.set_titles(col_template=\"--fsync={col_name}\", row_template=\"{row_name}\")"
   ]
  },
  {
   "cell_type": "code",
   "execution_count": null,
   "metadata": {},
   "outputs": [],
   "source": [
    "#data = df.unstack(\"metric\").query('numjobs in [1,4,5,8,12,16]').reset_index()\n",
    "data = df.unstack(\"metric\").query('fsync_every in [1,4,16]').reset_index()\n",
    "g = sns.relplot(data=data,\n",
    "            kind='line',\n",
    "            height=5,\n",
    "            row='zvol_request_sync',\n",
    "            col='fsync_every',\n",
    "            style='itxg_bypass',\n",
    "            hue='itxg_bypass',\n",
    "            markers=True,\n",
    "            x ='numjobs', y='w_lat_mean')\n",
    "for (row_val, col_val), ax in g.axes_dict.items():\n",
    "    ax.set_title(f\"--fsync={col_val} zvrsync={row_val}\")\n",
    "# g.set_titles(col_template=\"--fsync={col_name}\", row_template=\"{row_name}\")"
   ]
  },
  {
   "cell_type": "markdown",
   "metadata": {},
   "source": [
    "#  Latency Breakdown"
   ]
  },
  {
   "cell_type": "code",
   "execution_count": null,
   "metadata": {},
   "outputs": [],
   "source": [
    "df_kstats"
   ]
  },
  {
   "cell_type": "code",
   "execution_count": null,
   "metadata": {},
   "outputs": [],
   "source": [
    "data = df_kstats.query('fsync_every in [1,4,16]').reset_index()\n",
    "g = sns.relplot(data=data,\n",
    "            kind='line',\n",
    "            height=5,\n",
    "            row='zvol_request_sync',\n",
    "            col='fsync_every',\n",
    "            style='itxg_bypass',\n",
    "            hue='itxg_bypass',\n",
    "            markers=True,\n",
    "            x ='numjobs', y='bio_total')\n",
    "for (row_val, col_val), ax in g.axes_dict.items():\n",
    "    ax.set_title(f\"--fsync={col_val} zvrsync={row_val}\")"
   ]
  },
  {
   "cell_type": "code",
   "execution_count": null,
   "metadata": {},
   "outputs": [],
   "source": [
    "data = df_kstats.query('fsync_every in [1,4,16]').reset_index()\n",
    "g = sns.relplot(data=data,\n",
    "            kind='line',\n",
    "            height=5,\n",
    "            row='zvol_request_sync',\n",
    "            col='fsync_every',\n",
    "            style='itxg_bypass',\n",
    "            hue='itxg_bypass',\n",
    "            markers=True,\n",
    "            x ='numjobs', y='assign_vtable')\n",
    "for (row_val, col_val), ax in g.axes_dict.items():\n",
    "    ax.set_title(f\"--fsync={col_val} zvrsync={row_val}\")"
   ]
  },
  {
   "cell_type": "code",
   "execution_count": null,
   "metadata": {},
   "outputs": [],
   "source": [
    "data = df_kstats.query('fsync_every in [1,4,16]').reset_index()\n",
    "data['overhead'] = data.bio_total - data.assign_vtable\n",
    "g = sns.relplot(data=data,\n",
    "            kind='line',\n",
    "            height=5,\n",
    "            row='zvol_request_sync',\n",
    "            col='fsync_every',\n",
    "            style='itxg_bypass',\n",
    "            hue='itxg_bypass',\n",
    "            markers=True,\n",
    "            x ='numjobs', y='overhead')\n",
    "for (row_val, col_val), ax in g.axes_dict.items():\n",
    "    ax.set_title(f\"--fsync={col_val} zvrsync={row_val}\")"
   ]
  },
  {
   "cell_type": "markdown",
   "metadata": {},
   "source": [
    "# => we probably want a prb_write() kstat to compute the overhead so that it's the same for both configurations"
   ]
  },
  {
   "cell_type": "markdown",
   "metadata": {},
   "source": [
    "# How does the ITXG bypass's semaphore overhead behave?"
   ]
  },
  {
   "cell_type": "code",
   "execution_count": null,
   "metadata": {},
   "outputs": [],
   "source": [
    "data = df_kstats.query('fsync_every in [1,4,16]').reset_index()\n",
    "# commit__total because it's essentially a single `mov` between aquisition and exit\n",
    "data['semaphore_overhead'] = data.assign__aquisition_total + data.assign__exit + data.commit__total \n",
    "data['rel_semaphore_overhead'] = data.semaphore_overhead / data.bio_total\n",
    "g = sns.relplot(data=data,\n",
    "            kind='line',\n",
    "            height=5,\n",
    "            row='zvol_request_sync',\n",
    "            col='fsync_every',\n",
    "            style='itxg_bypass',\n",
    "            hue='itxg_bypass',\n",
    "            markers=True,\n",
    "            x ='numjobs', y='rel_semaphore_overhead')\n",
    "for (row_val, col_val), ax in g.axes_dict.items():\n",
    "    ax.set_title(f\"--fsync={col_val} zvrsync={row_val}\")"
   ]
  },
  {
   "cell_type": "markdown",
   "metadata": {},
   "source": [
    "# What overhead does the zvol taskq have?"
   ]
  },
  {
   "cell_type": "code",
   "execution_count": null,
   "metadata": {},
   "outputs": [],
   "source": [
    "data = df_kstats.query('fsync_every in [1,4,16]')\n",
    "data = data.query('zvol_request_sync == \"0\"')\n",
    "data = data.reset_index()\n",
    "# commit__total because it's essentially a single `mov` between aquisition and exit\n",
    "data['rel_taskq_delay'] = data.zvol_write__taskq_qdelay / data.bio_total\n",
    "g = sns.relplot(data=data,\n",
    "            kind='line',\n",
    "            height=5,\n",
    "#             col='fsync_every',\n",
    "            hue='itxg_bypass',\n",
    "            style='itxg_bypass',\n",
    "            markers=True,\n",
    "            x ='numjobs', y='rel_taskq_delay')"
   ]
  },
  {
   "cell_type": "code",
   "execution_count": null,
   "metadata": {},
   "outputs": [],
   "source": []
  },
  {
   "cell_type": "code",
   "execution_count": null,
   "metadata": {},
   "outputs": [],
   "source": []
  }
 ],
 "metadata": {
  "kernelspec": {
   "display_name": "Python 3",
   "language": "python",
   "name": "python3"
  },
  "language_info": {
   "codemirror_mode": {
    "name": "ipython",
    "version": 3
   },
   "file_extension": ".py",
   "mimetype": "text/x-python",
   "name": "python",
   "nbconvert_exporter": "python",
   "pygments_lexer": "ipython3",
   "version": "3.7.3"
  }
 },
 "nbformat": 4,
 "nbformat_minor": 4
}
