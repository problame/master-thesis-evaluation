{
 "cells": [
  {
   "cell_type": "markdown",
   "metadata": {},
   "source": [
    "See notes in `__v1` on why we chose `fio-4k-sync-rand-write--size-per-job`"
   ]
  },
  {
   "cell_type": "code",
   "execution_count": null,
   "metadata": {},
   "outputs": [],
   "source": [
    "import pandas as pd\n",
    "import glob\n",
    "import json\n",
    "import dotted # https://pypi.org/project/dotted-notation/\n",
    "import re\n",
    "import matplotlib.pyplot as plt\n",
    "\n",
    "from pathlib import Path\n",
    "import seaborn as sns\n",
    "import lib.datasciencetoolbelt as dstools\n",
    "from lib.resultstorage import ResultStorage"
   ]
  },
  {
   "cell_type": "code",
   "execution_count": null,
   "metadata": {},
   "outputs": [],
   "source": [
    "dstools.setup({\n",
    "    \"seaborn_context\": \"talk\",\n",
    "    \"savefig\": {\n",
    "        \"enable\": False,\n",
    "        \"dir\": Path(\"./postprocess_results\"),\n",
    "    }\n",
    "})\n",
    "result_storage = ResultStorage(Path(\"./results\"))\n",
    "\n",
    "#%matplotlib qt\n",
    "%matplotlib inline\n"
   ]
  },
  {
   "cell_type": "code",
   "execution_count": null,
   "metadata": {},
   "outputs": [],
   "source": [
    "id_vars__dottedpath_and_shortname_and_type = [\n",
    "    (\"subject\", \"test_subject\", str),\n",
    "    (\"result.identity\", \"benchmark\", str),\n",
    "    (\"result.fio_config.numjobs\", \"numjobs\", int),\n",
    "]\n",
    "id_vars = [p[1] for p in id_vars__dottedpath_and_shortname_and_type]\n",
    "\n",
    "def extract_id_var_values(output_json):\n",
    "    d = output_json\n",
    "    id_var_values = {}\n",
    "    for dp, sn, ty in id_vars__dottedpath_and_shortname_and_type: \n",
    "        v = dotted.get(d, dp)\n",
    "        if not v:\n",
    "            raise Exception(f\"{d['file']}: dotted path {dp} not found\")\n",
    "        if sn in id_var_values:\n",
    "            raise Exception(f\"duplicate shortname {sn}\")\n",
    "        try:\n",
    "            id_var_values[sn] = ty(v)\n",
    "        except ValueError as e:\n",
    "            raise Exception(f\"cannot parse v={v!r}\") from e\n",
    "    return id_var_values\n",
    "\n",
    "\n",
    "def get_fio_write_metrics(output_json):\n",
    "    d = output_json\n",
    "    jobs = dotted.get(d, \"fio_jsonplus.jobs\")\n",
    "    assert len(jobs) == 1\n",
    "    j0 = jobs[0]\n",
    "    jw = jobs[0][\"write\"]\n",
    "    return jw\n",
    "\n",
    "\n",
    "def to_row_dict(output_json):\n",
    "    try:\n",
    "        jw = get_fio_write_metrics(output_json[\"result\"])\n",
    "\n",
    "        return {\n",
    "            **extract_id_var_values(output_json),\n",
    "            \n",
    "            # meta\n",
    "            \"file\": output_json['file'],\n",
    "            \n",
    "            # fio\n",
    "            \"w_iops_mean\": jw[\"iops_mean\"],\n",
    "            \"w_iops_stddev\": jw[\"iops_stddev\"],\n",
    "            \"w_lat_mean\": dotted.get(jw, \"lat_ns.mean\"),\n",
    "            \"w_lat_stddev\": dotted.get(jw, \"lat_ns.stddev\"),\n",
    "        }\n",
    "    except:\n",
    "        print(json.dumps(output_json))\n",
    "        raise\n",
    "    "
   ]
  },
  {
   "cell_type": "code",
   "execution_count": null,
   "metadata": {
    "scrolled": false
   },
   "outputs": [],
   "source": [
    "rows = [to_row_dict(j) for j in result_storage.iter_results(\"motivating_fio_benchmark__v2\")]\n",
    "df = pd.DataFrame.from_dict(rows)\n",
    "# df = df.set_index(id_vars)"
   ]
  },
  {
   "cell_type": "markdown",
   "metadata": {},
   "source": [
    "!!!!!!!!!!!!!!!!!!!!!!!!!!!!!!!!!!!!!!!!!!!!!!!!!!!!!!!!!!!!!!!!!!!!!!!!!!!!!!!!!!!!\n",
    "\n",
    "Next cell is where you play around with the benchmark type"
   ]
  },
  {
   "cell_type": "code",
   "execution_count": null,
   "metadata": {},
   "outputs": [],
   "source": [
    "df = df.query(\"benchmark == 'fio-4k-sync-rand-write--size-per-job'\")\n",
    "# df = df.query(\"benchmark == 'fio-4k-sync-rand-write--size-div-by-numjobs'\")"
   ]
  },
  {
   "cell_type": "markdown",
   "metadata": {},
   "source": [
    "!!!!!!!!!!!!!!!!!!!!!!!!!!!!!!!!!!!!!!!!!!!!!!!!!!!!!!!!!!!!!!!!!!!!!!!!!!!!!!!!!!!!"
   ]
  },
  {
   "cell_type": "code",
   "execution_count": null,
   "metadata": {},
   "outputs": [],
   "source": [
    "#df = df.reset_index().drop('benchmark', axis=1).set_index(['test_subject', 'numjobs'])\n",
    "df = df.drop('benchmark', axis=1)"
   ]
  },
  {
   "cell_type": "code",
   "execution_count": null,
   "metadata": {},
   "outputs": [],
   "source": [
    "df['test_subject'] = df.test_subject.map(lambda v: \"async\" if v == \"sync-disabled\" else v)"
   ]
  },
  {
   "cell_type": "code",
   "execution_count": null,
   "metadata": {
    "scrolled": true
   },
   "outputs": [],
   "source": [
    "df"
   ]
  },
  {
   "cell_type": "markdown",
   "metadata": {},
   "source": [
    "# 4k write absolute comparison IOPS"
   ]
  },
  {
   "cell_type": "code",
   "execution_count": null,
   "metadata": {},
   "outputs": [],
   "source": [
    "def plt_abs_compare_iops_and_latency(subjects):    \n",
    "    data = df.copy()\n",
    "    data = data.melt(id_vars=[\"test_subject\", \"numjobs\"], value_vars=[\"w_iops_mean\", \"w_iops_stddev\"])\n",
    "    \n",
    "    data = data[data.test_subject.isin(subjects)]\n",
    "\n",
    "    g = sns.FacetGrid(data, col=\"variable\", height=6, sharey=False)\n",
    "    g.map_dataframe(sns.lineplot, x='numjobs', y='value', hue='test_subject', style='test_subject', markers=True)\n",
    "    g.add_legend()"
   ]
  },
  {
   "cell_type": "code",
   "execution_count": null,
   "metadata": {},
   "outputs": [],
   "source": [
    "test_subject_order = [\"devdax\", \"fsdax\", \"async\", \"zil-lwb\", \"zil-pmem\"]\n",
    "iops_ylim = (0,990_000)"
   ]
  },
  {
   "cell_type": "code",
   "execution_count": null,
   "metadata": {},
   "outputs": [],
   "source": [
    "def plt_abs_compare(subjects, value, title, unit, ylim=None, xlim=None):\n",
    "    data = df.copy()\n",
    "#     data = data.melt(id_vars=[\"test_subject\", \"numjobs\"], value_vars=[value])\n",
    "\n",
    "    # subjects must be ordered like test_subject_order otherwise the legend is off\n",
    "    def value_list_is_sorted(l, key):\n",
    "        \"\"\"can't believe python doesn't have this\"\"\"\n",
    "        return l == sorted(l, key=key)\n",
    "    assert value_list_is_sorted(subjects, test_subject_order.index)\n",
    "    \n",
    "#     display(data)\n",
    "    \n",
    "    data = data[data.test_subject.isin(subjects)]\n",
    "\n",
    "    f = plt.figure(figsize=(8, 6))\n",
    "    lp = sns.lineplot(data=data, x='numjobs', y=value, hue='test_subject', style='test_subject', markers=True,\n",
    "                      hue_order=test_subject_order, style_order=test_subject_order, legend=False)\n",
    "    lp.set_title(title, pad=16)\n",
    "    lp.set_ylabel(unit)\n",
    "    lp.set_xticks(range(2, 10, 2))\n",
    "    lp.set_ylim(ylim)\n",
    "    lp.set_xlim(xlim)\n",
    "    lp.set_xlabel(\"Number of fio threads (--numjobs)\")\n",
    "    if len(subjects) > 1:\n",
    "        lp.legend(subjects)"
   ]
  },
  {
   "cell_type": "code",
   "execution_count": null,
   "metadata": {},
   "outputs": [],
   "source": [
    "plt_abs_compare([\"devdax\", \"fsdax\"], \"w_iops_mean\", \"Raw PMEM 4k Write Performance\", \"IOPS\",\n",
    "                ylim=iops_ylim)\n",
    "dstools.savefig(\"4k_rawpmem_iops\")\n",
    "plt_abs_compare([\"devdax\", \"fsdax\"], \"w_lat_mean\", \"Raw PMEM 4k Write Latency\", \"Latency (usec)\")\n",
    "dstools.savefig(\"4k_rawpmem_lat\")"
   ]
  },
  {
   "cell_type": "code",
   "execution_count": null,
   "metadata": {},
   "outputs": [],
   "source": [
    "data = df.copy()\n",
    "display(data[data.test_subject == \"devdax\"][\"w_iops_mean\"].max())"
   ]
  },
  {
   "cell_type": "code",
   "execution_count": null,
   "metadata": {},
   "outputs": [],
   "source": [
    "# IMPORTANT NOTE: the ordering of the variables must be the same as test_subject_order\n",
    "plt_abs_compare([\"devdax\", \"fsdax\", \"async\", \"zil-lwb\"], \"w_iops_mean\", \"ZFS: Async vs Sync Write Performance\", \"IOPS\",\n",
    "               ylim=iops_ylim)\n",
    "dstools.savefig(\"4k_async_vs_sync_perf\")\n",
    "plt_abs_compare([\"devdax\", \"fsdax\", \"async\", \"zil-lwb\"], \"w_lat_mean\", \"ZFS: Async vs Sync Write Latency\", \"nano seconds\",\n",
    "               ylim=(1, 100 * 1000))\n",
    "dstools.savefig(\"4k_async_vs_sync_lat\")"
   ]
  },
  {
   "cell_type": "code",
   "execution_count": null,
   "metadata": {},
   "outputs": [],
   "source": [
    "data = df.copy()\n",
    "data = data.pivot_table(values=\"w_lat_mean\", index=[\"numjobs\", \"test_subject\"])\n",
    "data = data.query('numjobs in [1, 4, 8]')\n",
    "data = data.unstack(level=0)\n",
    "# latencies\n",
    "display((data / 1000).round(1))\n",
    "# speedup\n",
    "\n",
    "zil_lwb = data.query(\"test_subject == 'zil-lwb'\")\n",
    "assert len(zil_lwb) == 1\n",
    "# display(zil_lwb.iloc[0])\n",
    "\n",
    "zil_pmem = data.query(\"test_subject == 'zil-pmem'\")\n",
    "assert len(zil_pmem) == 1\n",
    "# display(zil_pmem.iloc[0])\n",
    "\n",
    "display((zil_lwb.reset_index(drop=True) / zil_pmem.reset_index(drop=True)).round(1))"
   ]
  },
  {
   "cell_type": "code",
   "execution_count": null,
   "metadata": {},
   "outputs": [],
   "source": [
    "plt_abs_compare([\"fsdax\", \"async\", \"zil-lwb\", \"zil-pmem\"], \"w_iops_mean\", \"ZIL-PMEM Performance Comparison\", \"IOPS\",\n",
    "               ylim=iops_ylim)\n",
    "dstools.savefig(\"4k_zil_pmem_perf\")\n",
    "plt_abs_compare([\"fsdax\", \"async\", \"zil-lwb\", \"zil-pmem\"], \"w_lat_mean\", \"ZIL-PMEM Latency Comparison\", \"nano seconds\",\n",
    "               ylim=(1, 175 * 1000))\n",
    "dstools.savefig(\"4k_zil_pmem_lat\")\n",
    "plt_abs_compare([\"fsdax\", \"async\", \"zil-pmem\"], \"w_lat_mean\", \"ZIL-PMEM Latency Comparison\", \"nano seconds\",\n",
    "               ylim=(1, 30 * 1000), xlim=(0, 8))\n",
    "dstools.savefig(\"4k_zil_pmem_lat_zoomed\")"
   ]
  },
  {
   "cell_type": "markdown",
   "metadata": {},
   "source": [
    "# 4k write speedup in IOPS (zil-lwb as baseline, without devdax)"
   ]
  },
  {
   "cell_type": "code",
   "execution_count": null,
   "metadata": {},
   "outputs": [],
   "source": [
    "data = df.copy()\n",
    "data = data.filter([\"test_subject\", \"numjobs\", \"w_iops_mean\", \"w_iops_stddev\"], axis=1)\n",
    "data = data.set_index([\"test_subject\", \"numjobs\"], drop=True)\n",
    "baseline = data.query(\"test_subject == 'zil-lwb'\").droplevel(0)\n",
    "baseline"
   ]
  },
  {
   "cell_type": "code",
   "execution_count": null,
   "metadata": {},
   "outputs": [],
   "source": [
    "df.query(\"test_subject == 'zil-pmem'\")"
   ]
  },
  {
   "cell_type": "code",
   "execution_count": null,
   "metadata": {},
   "outputs": [],
   "source": [
    "# divide by baseline\n",
    "speedup = data.divide(baseline, level=1)\n",
    "speedup.query(\"test_subject == 'zil-pmem'\")[\"w_iops_mean\"]"
   ]
  },
  {
   "cell_type": "code",
   "execution_count": null,
   "metadata": {},
   "outputs": [],
   "source": [
    "d = speedup[\"w_iops_mean\"].reset_index()\n",
    "d = d.query(\"test_subject != 'devdax'\")\n",
    "\n",
    "subjects = test_subject_order.copy()\n",
    "subjects.remove(\"devdax\")\n",
    " # subjects must be ordered like test_subject_order otherwise the legend is off\n",
    "def value_list_is_sorted(l, key):\n",
    "    \"\"\"can't believe python doesn't have this\"\"\"\n",
    "    return l == sorted(l, key=key)\n",
    "assert value_list_is_sorted(subjects, test_subject_order.index)\n",
    "d = d[d.test_subject.isin(subjects)]\n",
    "\n",
    "\n",
    "plt.figure(figsize=(8, 6))\n",
    "ax = plt.axes()\n",
    "lp = sns.lineplot(data=d, x='numjobs', y='w_iops_mean', hue='test_subject', style='test_subject', markers=True,\n",
    "                  hue_order=test_subject_order, style_order=test_subject_order, legend=False,\n",
    "                  ax=ax)\n",
    "lp.set_ylim((0, 12))\n",
    "lp.set_title(\"Speedup of IOPS (Baseline: zil-lwb)\", pad=16)\n",
    "lp.set_ylabel(\"Speedup\")\n",
    "lp.legend(subjects, loc='lower center')\n",
    "\n",
    "dstools.savefig(\"4k_speedup_lwb_baseline\")"
   ]
  },
  {
   "cell_type": "markdown",
   "metadata": {},
   "source": [
    "# 4k sync write latency corridor"
   ]
  },
  {
   "cell_type": "code",
   "execution_count": null,
   "metadata": {},
   "outputs": [],
   "source": [
    "plt_abs_compare([\"async\", \"zil-lwb\", \"zil-pmem\"], \"w_lat_mean\", \"ZIL-PMEM Latency Comparison (2)\", \"nano seconds\",\n",
    "               ylim=(1, None))\n",
    "dstools.savefig(\"4k_zil_pmem_lat_2\")"
   ]
  },
  {
   "cell_type": "markdown",
   "metadata": {},
   "source": [
    "# Data Export For Use In Latency Breakdown"
   ]
  },
  {
   "cell_type": "code",
   "execution_count": null,
   "metadata": {},
   "outputs": [],
   "source": [
    "df.query(\"test_subject == 'devdax'\").set_index(\"numjobs\").filter([\"w_lat_mean\"]).to_json(orient=\"table\")"
   ]
  },
  {
   "cell_type": "code",
   "execution_count": null,
   "metadata": {},
   "outputs": [],
   "source": []
  }
 ],
 "metadata": {
  "kernelspec": {
   "display_name": "Python 3",
   "language": "python",
   "name": "python3"
  },
  "language_info": {
   "codemirror_mode": {
    "name": "ipython",
    "version": 3
   },
   "file_extension": ".py",
   "mimetype": "text/x-python",
   "name": "python",
   "nbconvert_exporter": "python",
   "pygments_lexer": "ipython3",
   "version": "3.7.3"
  }
 },
 "nbformat": 4,
 "nbformat_minor": 4
}
