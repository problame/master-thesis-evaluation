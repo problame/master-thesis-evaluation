{
 "cells": [
  {
   "cell_type": "markdown",
   "metadata": {},
   "source": [
    "* See notes in `__v1` on why we chose `fio-4k-sync-rand-write--size-per-job`\n",
    "* We only changed the fio runtime to 60s compared to `__v2`\n"
   ]
  },
  {
   "cell_type": "code",
   "execution_count": null,
   "metadata": {},
   "outputs": [],
   "source": [
    "import pandas as pd\n",
    "import glob\n",
    "import json\n",
    "import dotted # https://pypi.org/project/dotted-notation/\n",
    "import re\n",
    "import matplotlib.pyplot as plt\n",
    "\n",
    "from pathlib import Path\n",
    "import seaborn as sns\n",
    "import lib.datasciencetoolbelt as dstools\n",
    "from lib.resultstorage import ResultStorage"
   ]
  },
  {
   "cell_type": "code",
   "execution_count": null,
   "metadata": {},
   "outputs": [],
   "source": [
    "dstools.setup({\n",
    "    \"seaborn_context\": \"talk\",\n",
    "    \"savefig\": {\n",
    "        \"enable\": False,\n",
    "        \"dir\": Path(\"./postprocess_results\"),\n",
    "    }\n",
    "})\n",
    "result_storage = ResultStorage(Path(\"./results\"))\n",
    "\n",
    "#%matplotlib qt\n",
    "%matplotlib inline\n"
   ]
  },
  {
   "cell_type": "code",
   "execution_count": null,
   "metadata": {},
   "outputs": [],
   "source": [
    "id_vars__dottedpath_and_shortname_and_type = [\n",
    "    (\"subject\", \"test_subject\", str),\n",
    "    (\"result.identity\", \"benchmark\", str),\n",
    "    (\"result.fio_config.numjobs\", \"numjobs\", int),\n",
    "]\n",
    "id_vars = [p[1] for p in id_vars__dottedpath_and_shortname_and_type]\n",
    "\n",
    "def extract_id_var_values(output_json):\n",
    "    d = output_json\n",
    "    id_var_values = {}\n",
    "    for dp, sn, ty in id_vars__dottedpath_and_shortname_and_type: \n",
    "        v = dotted.get(d, dp)\n",
    "        if not v:\n",
    "            raise Exception(f\"{d['file']}: dotted path {dp} not found\")\n",
    "        if sn in id_var_values:\n",
    "            raise Exception(f\"duplicate shortname {sn}\")\n",
    "        try:\n",
    "            id_var_values[sn] = ty(v)\n",
    "        except ValueError as e:\n",
    "            raise Exception(f\"cannot parse v={v!r}\") from e\n",
    "    return id_var_values\n",
    "\n",
    "\n",
    "def get_fio_write_metrics(output_json):\n",
    "    d = output_json\n",
    "    jobs = dotted.get(d, \"fio_jsonplus.jobs\")\n",
    "    assert len(jobs) == 1\n",
    "    j0 = jobs[0]\n",
    "    jw = jobs[0][\"write\"]\n",
    "    return jw\n",
    "\n",
    "\n",
    "def to_row_dict(output_json):\n",
    "    try:\n",
    "        jw = get_fio_write_metrics(output_json[\"result\"])\n",
    "\n",
    "        return {\n",
    "            **extract_id_var_values(output_json),\n",
    "            \n",
    "            # meta\n",
    "            \"file\": output_json['file'],\n",
    "            \n",
    "            # fio\n",
    "            \"w_iops_mean\": jw[\"iops_mean\"],\n",
    "            \"w_iops_stddev\": jw[\"iops_stddev\"],\n",
    "            \"w_lat_mean\": dotted.get(jw, \"lat_ns.mean\"),\n",
    "            \"w_lat_stddev\": dotted.get(jw, \"lat_ns.stddev\"),\n",
    "            \"clat_p5\": jw['clat_ns']['percentile']['5.000000'],\n",
    "            \"clat_p95\": jw['clat_ns']['percentile']['95.000000'],\n",
    "            \"clat_p99\": jw['clat_ns']['percentile']['99.000000'],\n",
    "            \"clat_p999\": jw['clat_ns']['percentile']['99.900000'],\n",
    "            \"clat_p9999\": jw['clat_ns']['percentile']['99.990000'],\n",
    "        }\n",
    "    except:\n",
    "        print(json.dumps(output_json))\n",
    "        raise\n",
    "    "
   ]
  },
  {
   "cell_type": "code",
   "execution_count": null,
   "metadata": {
    "scrolled": false
   },
   "outputs": [],
   "source": [
    "rows = [to_row_dict(j) for j in result_storage.iter_results(\"motivating_fio_benchmark__v3\")]\n",
    "df = pd.DataFrame.from_dict(rows)\n",
    "# df = df.set_index(id_vars)"
   ]
  },
  {
   "cell_type": "markdown",
   "metadata": {},
   "source": [
    "!!!!!!!!!!!!!!!!!!!!!!!!!!!!!!!!!!!!!!!!!!!!!!!!!!!!!!!!!!!!!!!!!!!!!!!!!!!!!!!!!!!!\n",
    "\n",
    "Next cell is where you play around with the benchmark type"
   ]
  },
  {
   "cell_type": "code",
   "execution_count": null,
   "metadata": {},
   "outputs": [],
   "source": [
    "df = df.query(\"benchmark == 'fio-4k-sync-rand-write--size-per-job'\")\n",
    "# df = df.query(\"benchmark == 'fio-4k-sync-rand-write--size-div-by-numjobs'\")"
   ]
  },
  {
   "cell_type": "markdown",
   "metadata": {},
   "source": [
    "!!!!!!!!!!!!!!!!!!!!!!!!!!!!!!!!!!!!!!!!!!!!!!!!!!!!!!!!!!!!!!!!!!!!!!!!!!!!!!!!!!!!"
   ]
  },
  {
   "cell_type": "code",
   "execution_count": null,
   "metadata": {},
   "outputs": [],
   "source": [
    "#df = df.reset_index().drop('benchmark', axis=1).set_index(['test_subject', 'numjobs'])\n",
    "df = df.drop('benchmark', axis=1)"
   ]
  },
  {
   "cell_type": "code",
   "execution_count": null,
   "metadata": {},
   "outputs": [],
   "source": [
    "df['test_subject'] = df.test_subject.map(lambda v: \"async\" if v == \"sync-disabled\" else v)"
   ]
  },
  {
   "cell_type": "code",
   "execution_count": null,
   "metadata": {
    "scrolled": true
   },
   "outputs": [],
   "source": [
    "df"
   ]
  },
  {
   "cell_type": "markdown",
   "metadata": {},
   "source": [
    "# 4k write absolute comparison IOPS"
   ]
  },
  {
   "cell_type": "code",
   "execution_count": null,
   "metadata": {},
   "outputs": [],
   "source": [
    "def plt_abs_compare_iops_and_latency(subjects):    \n",
    "    data = df.copy()\n",
    "    data = data.melt(id_vars=[\"test_subject\", \"numjobs\"], value_vars=[\"w_iops_mean\", \"w_iops_stddev\"])\n",
    "    \n",
    "    data = data[data.test_subject.isin(subjects)]\n",
    "\n",
    "    g = sns.FacetGrid(data, col=\"variable\", height=6, sharey=False)\n",
    "    g.map_dataframe(sns.lineplot, x='numjobs', y='value', hue='test_subject', style='test_subject', markers=True)\n",
    "    g.add_legend()"
   ]
  },
  {
   "cell_type": "code",
   "execution_count": null,
   "metadata": {},
   "outputs": [],
   "source": [
    "test_subject_order = [\"devdax\", \"fsdax\", \"async\", \"zil-lwb\", \"zil-pmem\"]\n",
    "iops_ylim = (0,990_000)"
   ]
  },
  {
   "cell_type": "code",
   "execution_count": null,
   "metadata": {},
   "outputs": [],
   "source": [
    "def plt_abs_compare(subjects, value, title, unit, ylim=None, xlim=None):\n",
    "    data = df.copy()\n",
    "#     data = data.melt(id_vars=[\"test_subject\", \"numjobs\"], value_vars=[value])\n",
    "\n",
    "    # subjects must be ordered like test_subject_order otherwise the legend is off\n",
    "    def value_list_is_sorted(l, key):\n",
    "        \"\"\"can't believe python doesn't have this\"\"\"\n",
    "        return l == sorted(l, key=key)\n",
    "    assert value_list_is_sorted(subjects, test_subject_order.index)\n",
    "    \n",
    "#     display(data)\n",
    "    \n",
    "    data = data[data.test_subject.isin(subjects)]\n",
    "\n",
    "    f = plt.figure(figsize=(8, 6))\n",
    "    lp = sns.lineplot(data=data, x='numjobs', y=value, hue='test_subject', style='test_subject', markers=True,\n",
    "                      hue_order=test_subject_order, style_order=test_subject_order, legend=False)\n",
    "    lp.set_title(title, pad=16)\n",
    "    lp.set_ylabel(unit)\n",
    "    lp.set_xticks(range(2, 10, 2))\n",
    "    lp.set_ylim(ylim)\n",
    "    lp.set_xlim(xlim)\n",
    "    lp.set_xlabel(\"Number of fio threads (--numjobs)\")\n",
    "    if len(subjects) > 1:\n",
    "        lp.legend(subjects)"
   ]
  },
  {
   "cell_type": "code",
   "execution_count": null,
   "metadata": {
    "scrolled": false
   },
   "outputs": [],
   "source": [
    "plt_abs_compare([\"devdax\", \"fsdax\"], \"w_iops_mean\", \"Raw PMEM 4k Write Performance\", \"IOPS\",\n",
    "                ylim=iops_ylim)\n",
    "dstools.savefig(\"4k_rawpmem_iops\")\n",
    "plt_abs_compare([\"devdax\", \"fsdax\"], \"w_lat_mean\", \"Raw PMEM 4k Write Latency\", \"Latency (usec)\")\n",
    "dstools.savefig(\"4k_rawpmem_lat\")"
   ]
  },
  {
   "cell_type": "code",
   "execution_count": null,
   "metadata": {},
   "outputs": [],
   "source": [
    "data = df.copy()\n",
    "display(data[data.test_subject == \"devdax\"][\"w_iops_mean\"].max())"
   ]
  },
  {
   "cell_type": "code",
   "execution_count": null,
   "metadata": {
    "scrolled": false
   },
   "outputs": [],
   "source": [
    "# IMPORTANT NOTE: the ordering of the variables must be the same as test_subject_order\n",
    "plt_abs_compare([\"devdax\", \"fsdax\", \"async\", \"zil-lwb\"], \"w_iops_mean\", \"ZFS: Async vs Sync Write Performance\", \"IOPS\",\n",
    "               ylim=iops_ylim)\n",
    "dstools.savefig(\"4k_async_vs_sync_perf\")\n",
    "plt_abs_compare([\"devdax\", \"fsdax\", \"async\", \"zil-lwb\"], \"w_lat_mean\", \"ZFS: Async vs Sync Write Latency\", \"nano seconds\",\n",
    "               ylim=(1, 100 * 1000))\n",
    "dstools.savefig(\"4k_async_vs_sync_lat\")\n",
    "plt_abs_compare([\"devdax\", \"fsdax\", \"async\"], \"w_lat_mean\", \"ZIL-PMEM Latency Comparison\", \"nano seconds\",\n",
    "               ylim=(1, 15 * 1000), xlim=(0, 8))\n",
    "dstools.savefig(\"4k_zil_lat_lat_zoomed\")"
   ]
  },
  {
   "cell_type": "code",
   "execution_count": null,
   "metadata": {},
   "outputs": [],
   "source": [
    "data = df.copy()\n",
    "data = data.pivot_table(values=\"w_lat_mean\", index=[\"numjobs\", \"test_subject\"])\n",
    "data = data.query('numjobs in [1, 4, 8]')\n",
    "data = data.unstack(level=0)\n",
    "# latencies\n",
    "display((data / 1000).round(1))\n",
    "# speedup\n",
    "\n",
    "zil_lwb = data.query(\"test_subject == 'zil-lwb'\")\n",
    "assert len(zil_lwb) == 1\n",
    "# display(zil_lwb.iloc[0])\n",
    "\n",
    "zil_pmem = data.query(\"test_subject == 'zil-pmem'\")\n",
    "assert len(zil_pmem) == 1\n",
    "# display(zil_pmem.iloc[0])\n",
    "\n",
    "display((zil_lwb.reset_index(drop=True) / zil_pmem.reset_index(drop=True)).round(1))"
   ]
  },
  {
   "cell_type": "code",
   "execution_count": null,
   "metadata": {},
   "outputs": [],
   "source": [
    "plt_abs_compare([\"fsdax\", \"async\", \"zil-lwb\", \"zil-pmem\"], \"w_iops_mean\", \"ZIL-PMEM Performance Comparison\", \"IOPS\",\n",
    "               ylim=iops_ylim)\n",
    "dstools.savefig(\"4k_zil_pmem_perf\")\n",
    "plt_abs_compare([\"fsdax\", \"async\", \"zil-lwb\", \"zil-pmem\"], \"w_lat_mean\", \"ZIL-PMEM Latency Comparison\", \"nano seconds\",\n",
    "               ylim=(1, 175 * 1000))\n",
    "dstools.savefig(\"4k_zil_pmem_lat\")\n",
    "plt_abs_compare([\"fsdax\", \"async\", \"zil-pmem\"], \"w_lat_mean\", \"ZIL-PMEM Latency Comparison\", \"nano seconds\",\n",
    "               ylim=(1, 30 * 1000), xlim=(0, 8))\n",
    "dstools.savefig(\"4k_zil_pmem_lat_zoomed\")"
   ]
  },
  {
   "cell_type": "markdown",
   "metadata": {},
   "source": [
    "# 4k write speedup in IOPS (zil-lwb as baseline, without devdax)"
   ]
  },
  {
   "cell_type": "code",
   "execution_count": null,
   "metadata": {},
   "outputs": [],
   "source": [
    "data = df.copy()\n",
    "data = data.filter([\"test_subject\", \"numjobs\", \"w_iops_mean\", \"w_iops_stddev\"], axis=1)\n",
    "data = data.set_index([\"test_subject\", \"numjobs\"], drop=True)\n",
    "baseline = data.query(\"test_subject == 'zil-lwb'\").droplevel(0)\n",
    "print(\"zil-lwb\")\n",
    "display(baseline.sort_index())\n",
    "display(data.query(\"test_subject == 'zil-pmem'\").sort_index())"
   ]
  },
  {
   "cell_type": "code",
   "execution_count": null,
   "metadata": {},
   "outputs": [],
   "source": [
    "# divide by baseline\n",
    "speedup = data.divide(baseline, level=1)\n",
    "speedup.query(\"test_subject == 'zil-pmem'\")[\"w_iops_mean\"].sort_index()"
   ]
  },
  {
   "cell_type": "code",
   "execution_count": null,
   "metadata": {},
   "outputs": [],
   "source": [
    "d = speedup[\"w_iops_mean\"].reset_index()\n",
    "d = d.query(\"test_subject != 'devdax'\")\n",
    "\n",
    "subjects = test_subject_order.copy()\n",
    "subjects.remove(\"devdax\")\n",
    " # subjects must be ordered like test_subject_order otherwise the legend is off\n",
    "def value_list_is_sorted(l, key):\n",
    "    \"\"\"can't believe python doesn't have this\"\"\"\n",
    "    return l == sorted(l, key=key)\n",
    "assert value_list_is_sorted(subjects, test_subject_order.index)\n",
    "d = d[d.test_subject.isin(subjects)]\n",
    "\n",
    "\n",
    "plt.figure(figsize=(8, 6))\n",
    "ax = plt.axes()\n",
    "lp = sns.lineplot(data=d, x='numjobs', y='w_iops_mean', hue='test_subject', style='test_subject', markers=True,\n",
    "                  hue_order=test_subject_order, style_order=test_subject_order, legend=False,\n",
    "                  ax=ax)\n",
    "lp.set_ylim((0, 12))\n",
    "lp.set_title(\"Speedup of IOPS (Baseline: zil-lwb)\", pad=16)\n",
    "lp.set_ylabel(\"Speedup\")\n",
    "lp.legend(subjects, loc='lower center')\n",
    "\n",
    "dstools.savefig(\"4k_speedup_lwb_baseline\")"
   ]
  },
  {
   "cell_type": "markdown",
   "metadata": {},
   "source": [
    "### We noticed that speedup varies significantly between runs for small `numjobs`, so let's investigate this"
   ]
  },
  {
   "cell_type": "code",
   "execution_count": null,
   "metadata": {
    "scrolled": false
   },
   "outputs": [],
   "source": [
    "data = df.copy()\n",
    "data = data.set_index([\"test_subject\", \"numjobs\"])\n",
    "data = data.loc[['zil-pmem', 'zil-lwb', 'async', 'fsdax'], ].copy()\n",
    "\n",
    "color = {c: sns.color_palette()[i] for i, c in enumerate(test_subject_order)}\n",
    "\n",
    "cov = (data.w_iops_stddev / data.w_iops_mean).unstack(\"test_subject\")\n",
    "display(cov)\n",
    "\n",
    "fig = plt.figure(figsize=(10,10), tight_layout=True)\n",
    "gs = fig.add_gridspec(5, 2)\n",
    "ax = fig.add_subplot(gs[0:3, :])\n",
    "cov.plot(ax=ax, title=\"Coefficient of Variation (stddev/mean)\", color=color)\n",
    "ax.legend(loc='center left', bbox_to_anchor=(1, 0.5))\n",
    "\n",
    "data.w_iops_mean.unstack(\"test_subject\").plot(ax=fig.add_subplot(gs[3:5, 0]), legend=False, title=\"IOPS mean\", color=color)\n",
    "data.w_iops_stddev.unstack(\"test_subject\").plot(ax=fig.add_subplot(gs[3:5, 1]), legend=False, title=\"IOPS stddev\", color=color)\n",
    "\n",
    "display(data.w_iops_mean.unstack(\"test_subject\"))\n",
    "display(data.w_iops_stddev.unstack(\"test_subject\"))\n",
    "\n",
    "\n",
    "\n",
    "# fig, axes = plt.subplots(3, 1, squeeze=False, )\n",
    "# cov.plot(ax=axes[0,0])\n",
    "# data.w_iops_stddev.unstack(\"test_subject\").plot(ax=axes[1,0])\n",
    "# data.w_iops_mean.unstack(\"test_subject\").plot(ax=axes[2,0])"
   ]
  },
  {
   "cell_type": "markdown",
   "metadata": {},
   "source": [
    "#### Percentiles"
   ]
  },
  {
   "cell_type": "code",
   "execution_count": null,
   "metadata": {
    "scrolled": false
   },
   "outputs": [],
   "source": [
    "data = df.copy()\n",
    "data = data.set_index(['test_subject', 'numjobs'])\n",
    "data = data[[f'clat_p{n9}' for n9 in ['5', '95', '99', '999', '9999']]].rename_axis(\"percentile\", axis=1)\n",
    "# display(data)\n",
    "\n",
    "# data.reset_index().pivot(index=['percentile', 'numjobs'], columns='test_subject')\n",
    "data = data.stack().rename(\"clat\").reset_index()\n",
    "display(data)\n",
    "sns.relplot(kind='line',\n",
    "                 data=data, x='numjobs', y='clat', col='percentile', col_wrap=3,\n",
    "                 hue='test_subject', style='test_subject',\n",
    "                 facet_kws={'sharey': False})"
   ]
  },
  {
   "cell_type": "code",
   "execution_count": null,
   "metadata": {
    "scrolled": false
   },
   "outputs": [],
   "source": [
    "sns.relplot(kind='line',\n",
    "            data=data, x='numjobs', y='clat', col='test_subject', col_wrap=3,\n",
    "            hue='percentile', style='percentile',\n",
    "            facet_kws={'sharey': False})"
   ]
  },
  {
   "cell_type": "code",
   "execution_count": null,
   "metadata": {},
   "outputs": [],
   "source": [
    "sns.relplot(kind='line',\n",
    "            data=data[(data.test_subject == 'zil-pmem') | (data.test_subject == 'async') | (data.test_subject == 'zil-lwb')],\n",
    "            x='numjobs', y='clat', col='test_subject', col_wrap=3,\n",
    "            hue='percentile', style='percentile',\n",
    "            facet_kws={'sharey': False, 'ylim':(0,200_000)})"
   ]
  },
  {
   "cell_type": "code",
   "execution_count": null,
   "metadata": {},
   "outputs": [],
   "source": [
    "tmp = data.set_index(['test_subject', 'numjobs', 'percentile']).unstack('percentile')\n",
    "tmp = tmp.droplevel(0, axis=1)\n",
    "tmp['p95_5_spread'] = tmp['clat_p95'] / tmp['clat_p5']\n",
    "\n",
    "tmp['p9999_5_spread'] = tmp['clat_p9999'] / tmp['clat_p5']\n",
    "\n",
    "display(tmp.p95_5_spread.unstack(\"test_subject\"))\n",
    "display(tmp.p9999_5_spread.unstack(\"test_subject\"))\n",
    "\n",
    "sns.relplot(kind='line',\n",
    "            data=tmp,\n",
    "            x='numjobs', y='p9999_5_spread', hue='test_subject',\n",
    "           )\n",
    "#             facet_kws={'sharey': False, 'ylim':(0,200_000)})\n"
   ]
  },
  {
   "cell_type": "markdown",
   "metadata": {},
   "source": [
    "### Tail Latency"
   ]
  },
  {
   "cell_type": "code",
   "execution_count": null,
   "metadata": {},
   "outputs": [],
   "source": [
    "data = df.copy()\n",
    "data = data.set_index(['test_subject', 'numjobs'])\n",
    "data = data[[f'clat_p{n9}' for n9 in ['5', '95', '99', '999', '9999']]].rename_axis(\"percentile\", axis=1)\n",
    "# display(data)\n",
    "\n",
    "# data.reset_index().pivot(index=['percentile', 'numjobs'], columns='test_subject')\n",
    "data = data.stack().rename(\"latency [us]\")\n",
    "data = data / 1_000\n",
    "data = data.reset_index()\n",
    "\n",
    "sns.relplot(kind='line',\n",
    "                 data=data[(data.test_subject == 'zil-pmem') | (data.test_subject == 'async') | (data.test_subject == 'zil-lwb')],\n",
    "                 x='numjobs', y='latency [us]', col='test_subject', col_wrap=3,\n",
    "                 hue='percentile',\n",
    "#                  facet_kws={'sharey': False},\n",
    "                 facet_kws={'sharey': True, 'ylim':(0, 400)},\n",
    "                )"
   ]
  },
  {
   "cell_type": "code",
   "execution_count": null,
   "metadata": {},
   "outputs": [],
   "source": [
    "tmp = data.set_index(['test_subject', 'numjobs', 'percentile']).sort_index().copy()\n",
    "\n",
    "# tmp['p95_5_spread'] = tmp['clat_p95'] / tmp['clat_p5']\n",
    "# tmp['p9999_5_spread'] = tmp['clat_p9999'] / tmp['clat_p5']\n",
    "\n",
    "tmp = tmp['latency [us]'].rename(\"\")\n",
    "fig, axes = plt.subplots(1, 3, squeeze=False, figsize=(15,4))\n",
    "fig.suptitle(\"Completion Latencies By Percentile\", fontsize=16, y=1.1)\n",
    "tmp.loc['zil-lwb', ].unstack('percentile').plot(ax=axes[0, 0], legend=False, ylim=(0, 1000), title='zil-lwb')\n",
    "\n",
    "tmp.loc['zil-pmem', ].unstack('percentile').plot(ax=axes[0, 1], legend=False, ylim=(0, 200), title='zil-pmem')\n",
    "\n",
    "tmp.loc['async', ].unstack('percentile').plot(ax=axes[0, 2], legend=False, ylim=(0, 200), title='async')\n",
    "\n",
    "# https://stackoverflow.com/questions/9834452/how-do-i-make-a-single-legend-for-many-subplots-with-matplotlib\n",
    "fig.legend(*axes[0, 2].get_legend_handles_labels(), loc='lower center', bbox_to_anchor=(0.5, -0.3), ncol=5)\n",
    "fig.supylabel('latency [us]', fontsize=16, x=0.05)"
   ]
  },
  {
   "cell_type": "code",
   "execution_count": null,
   "metadata": {},
   "outputs": [],
   "source": [
    "\n",
    "\n",
    "display(tmp.p95_5_spread.unstack(\"test_subject\"))\n",
    "display(tmp.p9999_5_spread.unstack(\"test_subject\"))"
   ]
  },
  {
   "cell_type": "markdown",
   "metadata": {},
   "source": [
    "# 4k sync write latency corridor"
   ]
  },
  {
   "cell_type": "code",
   "execution_count": null,
   "metadata": {},
   "outputs": [],
   "source": [
    "plt_abs_compare([\"async\", \"zil-lwb\", \"zil-pmem\"], \"w_lat_mean\", \"ZIL-PMEM Latency Comparison (2)\", \"nano seconds\",\n",
    "               ylim=(1, None))\n",
    "dstools.savefig(\"4k_zil_pmem_lat_2\")"
   ]
  },
  {
   "cell_type": "markdown",
   "metadata": {},
   "source": [
    "# Data Export For Use In Latency Breakdown"
   ]
  },
  {
   "cell_type": "code",
   "execution_count": null,
   "metadata": {},
   "outputs": [],
   "source": [
    "df.query(\"test_subject == 'devdax'\").set_index(\"numjobs\").filter([\"w_lat_mean\"]).to_json(orient=\"table\")"
   ]
  },
  {
   "cell_type": "code",
   "execution_count": null,
   "metadata": {},
   "outputs": [],
   "source": []
  }
 ],
 "metadata": {
  "kernelspec": {
   "display_name": "Python 3",
   "language": "python",
   "name": "python3"
  },
  "language_info": {
   "codemirror_mode": {
    "name": "ipython",
    "version": 3
   },
   "file_extension": ".py",
   "mimetype": "text/x-python",
   "name": "python",
   "nbconvert_exporter": "python",
   "pygments_lexer": "ipython3",
   "version": "3.7.3"
  }
 },
 "nbformat": 4,
 "nbformat_minor": 4
}
