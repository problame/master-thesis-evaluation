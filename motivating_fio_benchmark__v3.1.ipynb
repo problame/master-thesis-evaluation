{
 "cells": [
  {
   "cell_type": "markdown",
   "metadata": {},
   "source": [
    "* See notes in `__v1` on why we chose `fio-4k-sync-rand-write--size-per-job`\n",
    "\n",
    "* `__v3`:\n",
    "  * We only changed the fio runtime to 60s compared to `__v2`\n",
    "* `v3.1`:\n",
    "  * plot everything using matplotlib instead of seaborn / pandas\n",
    "  * use plot layouts as we need them in the thesis\n"
   ]
  },
  {
   "cell_type": "code",
   "execution_count": null,
   "metadata": {},
   "outputs": [],
   "source": [
    "import pandas as pd\n",
    "import glob\n",
    "import json\n",
    "import dotted # https://pypi.org/project/dotted-notation/\n",
    "import re\n",
    "import matplotlib.pyplot as plt\n",
    "import matplotlib\n",
    "\n",
    "from pathlib import Path\n",
    "import seaborn as sns\n",
    "import lib.datasciencetoolbelt as dstools\n",
    "from lib.resultstorage import ResultStorage"
   ]
  },
  {
   "cell_type": "code",
   "execution_count": null,
   "metadata": {
    "tags": [
     "parameters"
    ]
   },
   "outputs": [],
   "source": [
    "savefig_enable = True\n",
    "seaborn_context = \"paper\"\n",
    "savefig_dir = \"./postprocess_results\""
   ]
  },
  {
   "cell_type": "code",
   "execution_count": null,
   "metadata": {},
   "outputs": [],
   "source": [
    "dstools.setup({\n",
    "    \"seaborn_context\": seaborn_context,\n",
    "    \"savefig\": {\n",
    "        \"enable\": savefig_enable,\n",
    "        \"dir\": Path(savefig_dir),\n",
    "    }\n",
    "    \n",
    "})\n",
    "result_storage = ResultStorage(Path(\"./results\"))\n"
   ]
  },
  {
   "cell_type": "code",
   "execution_count": null,
   "metadata": {},
   "outputs": [],
   "source": [
    "# display in this notebook\n",
    "%matplotlib inline\n",
    "#%matplotlib qt\n",
    "#%matplotlib notebook\n",
    "matplotlib.rcParams['figure.dpi'] = 120"
   ]
  },
  {
   "cell_type": "code",
   "execution_count": null,
   "metadata": {},
   "outputs": [],
   "source": [
    "# from https://seaborn.pydata.org/generated/seaborn.plotting_context.html#seaborn.plotting_context\n",
    "scalefactors = {    \n",
    "    'paper': 0.8,\n",
    "    'notebook': 1,\n",
    "    'talk': 1.3,\n",
    "    'poster': 1.6\n",
    "}\n",
    "def ctxfigsize(ctx, width, height):\n",
    "    return tuple(scalefactors[ctx] * np.array((width, height)))\n",
    "\n",
    "textwidth = 5.5 #inch\n"
   ]
  },
  {
   "cell_type": "code",
   "execution_count": null,
   "metadata": {},
   "outputs": [],
   "source": [
    "id_vars__dottedpath_and_shortname_and_type = [\n",
    "    (\"subject\", \"test_subject\", str),\n",
    "    (\"result.identity\", \"benchmark\", str),\n",
    "    (\"result.fio_config.numjobs\", \"numjobs\", int),\n",
    "]\n",
    "id_vars = [p[1] for p in id_vars__dottedpath_and_shortname_and_type]\n",
    "\n",
    "def extract_id_var_values(output_json):\n",
    "    d = output_json\n",
    "    id_var_values = {}\n",
    "    for dp, sn, ty in id_vars__dottedpath_and_shortname_and_type: \n",
    "        v = dotted.get(d, dp)\n",
    "        if not v:\n",
    "            raise Exception(f\"{d['file']}: dotted path {dp} not found\")\n",
    "        if sn in id_var_values:\n",
    "            raise Exception(f\"duplicate shortname {sn}\")\n",
    "        try:\n",
    "            id_var_values[sn] = ty(v)\n",
    "        except ValueError as e:\n",
    "            raise Exception(f\"cannot parse v={v!r}\") from e\n",
    "    return id_var_values\n",
    "\n",
    "\n",
    "def get_fio_write_metrics(output_json):\n",
    "    d = output_json\n",
    "    jobs = dotted.get(d, \"fio_jsonplus.jobs\")\n",
    "    assert len(jobs) == 1\n",
    "    j0 = jobs[0]\n",
    "    jw = jobs[0][\"write\"]\n",
    "    return jw\n",
    "\n",
    "\n",
    "def to_row_dict(output_json):\n",
    "    try:\n",
    "        jw = get_fio_write_metrics(output_json[\"result\"])\n",
    "\n",
    "        return {\n",
    "            **extract_id_var_values(output_json),\n",
    "            \n",
    "            # meta\n",
    "            \"file\": output_json['file'],\n",
    "            \n",
    "            # fio\n",
    "            \"w_iops_mean\": jw[\"iops_mean\"],\n",
    "            \"w_iops_stddev\": jw[\"iops_stddev\"],\n",
    "            \"w_lat_mean\": dotted.get(jw, \"lat_ns.mean\"),\n",
    "            \"w_lat_stddev\": dotted.get(jw, \"lat_ns.stddev\"),\n",
    "            \"clat_p5\": jw['clat_ns']['percentile']['5.000000'],\n",
    "            \"clat_p95\": jw['clat_ns']['percentile']['95.000000'],\n",
    "            \"clat_p99\": jw['clat_ns']['percentile']['99.000000'],\n",
    "            \"clat_p999\": jw['clat_ns']['percentile']['99.900000'],\n",
    "            \"clat_p9999\": jw['clat_ns']['percentile']['99.990000'],\n",
    "        }\n",
    "    except:\n",
    "        print(json.dumps(output_json))\n",
    "        raise\n",
    "    "
   ]
  },
  {
   "cell_type": "code",
   "execution_count": null,
   "metadata": {
    "scrolled": false
   },
   "outputs": [],
   "source": [
    "rows = [to_row_dict(j) for j in result_storage.iter_results(\"motivating_fio_benchmark__v3\")]\n",
    "df = pd.DataFrame.from_dict(rows)\n",
    "# df = df.set_index(id_vars)"
   ]
  },
  {
   "cell_type": "markdown",
   "metadata": {},
   "source": [
    "!!!!!!!!!!!!!!!!!!!!!!!!!!!!!!!!!!!!!!!!!!!!!!!!!!!!!!!!!!!!!!!!!!!!!!!!!!!!!!!!!!!!\n",
    "\n",
    "Next cell is where you play around with the benchmark type"
   ]
  },
  {
   "cell_type": "code",
   "execution_count": null,
   "metadata": {},
   "outputs": [],
   "source": [
    "df = df.query(\"benchmark == 'fio-4k-sync-rand-write--size-per-job'\")\n",
    "# df = df.query(\"benchmark == 'fio-4k-sync-rand-write--size-div-by-numjobs'\")"
   ]
  },
  {
   "cell_type": "markdown",
   "metadata": {},
   "source": [
    "!!!!!!!!!!!!!!!!!!!!!!!!!!!!!!!!!!!!!!!!!!!!!!!!!!!!!!!!!!!!!!!!!!!!!!!!!!!!!!!!!!!!"
   ]
  },
  {
   "cell_type": "code",
   "execution_count": null,
   "metadata": {},
   "outputs": [],
   "source": [
    "#df = df.reset_index().drop('benchmark', axis=1).set_index(['test_subject', 'numjobs'])\n",
    "df = df.drop('benchmark', axis=1)"
   ]
  },
  {
   "cell_type": "code",
   "execution_count": null,
   "metadata": {},
   "outputs": [],
   "source": [
    "df['test_subject'] = df.test_subject.map(lambda v: \"async\" if v == \"sync-disabled\" else v)"
   ]
  },
  {
   "cell_type": "code",
   "execution_count": null,
   "metadata": {
    "scrolled": true
   },
   "outputs": [],
   "source": [
    "df"
   ]
  },
  {
   "cell_type": "markdown",
   "metadata": {},
   "source": [
    "# Styling"
   ]
  },
  {
   "cell_type": "code",
   "execution_count": null,
   "metadata": {},
   "outputs": [],
   "source": [
    "test_subject_order = [\"devdax\", \"fsdax\", \"async\", \"zil-lwb\", \"zil-pmem\"]\n",
    "color = {c: sns.color_palette()[i] for i, c in enumerate(test_subject_order)}\n",
    "style = dict(zip(test_subject_order, ['-', ':', '--', '-.', '-']))\n",
    "marker = dict(zip(test_subject_order, ['o', '+', 'x', '^', '+']))\n",
    "# print(style)"
   ]
  },
  {
   "cell_type": "markdown",
   "metadata": {},
   "source": [
    "# Helpers"
   ]
  },
  {
   "cell_type": "code",
   "execution_count": null,
   "metadata": {},
   "outputs": [],
   "source": [
    "def plt_abs_compare(subjects, value, title, unit, ylim=None, xlim=None, ax=None, data=None):\n",
    "    if data is None:\n",
    "        data = df.copy()\n",
    "    \n",
    "        data['w_lat_mean_us'] = data.w_lat_mean / 1_000\n",
    "        data['w_iops_mean_k'] = data.w_iops_mean / 1_000\n",
    "        \n",
    "        data = data.set_index(['test_subject', 'numjobs'])\n",
    "\n",
    "    # subjects must be ordered like test_subject_order otherwise the legend is off\n",
    "    def value_list_is_sorted(l, key):\n",
    "        \"\"\"can't believe python doesn't have this\"\"\"\n",
    "        return l == sorted(l, key=key)\n",
    "    assert value_list_is_sorted(subjects, test_subject_order.index)\n",
    "\n",
    "    if not ax:\n",
    "        f = plt.figure(figsize=(0.5 * textwidth, 2))\n",
    "        ax = f\n",
    "    \n",
    "    data = data.loc[subjects, slice(None)][value].unstack('test_subject')\n",
    "\n",
    "    ax.set_title(title)\n",
    "    if ylim:\n",
    "        ax.set_ylim(ylim)\n",
    "        \n",
    "    ax.set_xticks(range(0, 10, 2))\n",
    "\n",
    "    if xlim:\n",
    "        ax.set_xlim(xlim)\n",
    "    else:\n",
    "        ax.set_xlim(0.75, 8.2)\n",
    "        \n",
    "    if unit:\n",
    "        ax.set_ylabel(unit)\n",
    "    \n",
    "    for s in subjects:\n",
    "        ax.plot(data[s].index, data[s], color=color[s], linestyle=style[s], marker=marker[s], label=s)\n",
    "    "
   ]
  },
  {
   "cell_type": "markdown",
   "metadata": {},
   "source": [
    "# ZIL-LWB Performance"
   ]
  },
  {
   "cell_type": "code",
   "execution_count": null,
   "metadata": {},
   "outputs": [],
   "source": [
    "fig, axes = plt.subplots(1, 2, figsize=(textwidth, 2), gridspec_kw={'hspace':0.4})\n",
    "# \"ZFS: Async vs Sync Write Performance\"\n",
    "plt_abs_compare([\"devdax\", \"fsdax\", \"async\", \"zil-lwb\"], \"w_iops_mean_k\", \"Throughput [kIOPS]\", None,\n",
    "               ylim=(0, 1_000), ax=axes[0])\n",
    "# \"ZFS: Async vs Sync Write Latency\"\n",
    "plt_abs_compare([\"devdax\", \"fsdax\", \"async\", \"zil-lwb\"], \"w_lat_mean_us\", \"Latency [us]\", None,\n",
    "               ylim=(1, 100), ax=axes[1])\n",
    "\n",
    "\n",
    "handles, labels = axes[1].get_legend_handles_labels()\n",
    "fig.legend(handles, labels, loc='center', bbox_to_anchor=(0.5, -0.1), ncol=4)\n",
    "\n",
    "dstools.savefig(\"fio4k__lwb_iops_and_lat\")"
   ]
  },
  {
   "cell_type": "code",
   "execution_count": null,
   "metadata": {
    "scrolled": false
   },
   "outputs": [],
   "source": [
    "fig, ax = plt.subplots(1, figsize=(0.75 * textwidth, 1.5))\n",
    "plt_abs_compare([\"devdax\", \"fsdax\", \"async\"], \"w_lat_mean_us\", \"Latency (zoomed) [us]\", \"\",\n",
    "               ylim=(0, 15), ax=ax)\n",
    "fig.legend(loc='center', bbox_to_anchor=(0.5, -0.2), ncol=3)\n",
    "ax.set_yticks(range(0 ,16, 4))\n",
    "dstools.savefig(\"fio4k__lwb_lat_zoomed\")"
   ]
  },
  {
   "cell_type": "markdown",
   "metadata": {},
   "source": [
    "### Latency Numbers For Use In Text"
   ]
  },
  {
   "cell_type": "code",
   "execution_count": null,
   "metadata": {},
   "outputs": [],
   "source": [
    "data = df.copy()\n",
    "data = data.pivot_table(values=\"w_lat_mean\", index=[\"numjobs\", \"test_subject\"])\n",
    "data = data.query('numjobs in [1, 4, 8]')\n",
    "data = data.unstack(level=0)\n",
    "# latencies\n",
    "display((data / 1000).round(1))\n",
    "# speedup\n",
    "\n",
    "zil_lwb = data.query(\"test_subject == 'zil-lwb'\")\n",
    "assert len(zil_lwb) == 1\n",
    "# display(zil_lwb.iloc[0])\n",
    "\n",
    "zil_pmem = data.query(\"test_subject == 'zil-pmem'\")\n",
    "assert len(zil_pmem) == 1\n",
    "# display(zil_pmem.iloc[0])\n",
    "\n",
    "display((zil_lwb.reset_index(drop=True) / zil_pmem.reset_index(drop=True)).round(1))"
   ]
  },
  {
   "cell_type": "markdown",
   "metadata": {},
   "source": [
    "# ZIL-PMEM 4k Fio Performance"
   ]
  },
  {
   "cell_type": "markdown",
   "metadata": {},
   "source": [
    "## 4k write speedup in IOPS (zil-lwb as baseline)"
   ]
  },
  {
   "cell_type": "code",
   "execution_count": null,
   "metadata": {},
   "outputs": [],
   "source": [
    "data = df.copy()\n",
    "data = data.filter([\"test_subject\", \"numjobs\", \"w_iops_mean\", \"w_iops_stddev\"], axis=1)\n",
    "data = data.set_index([\"test_subject\", \"numjobs\"], drop=True)\n",
    "baseline = data.query(\"test_subject == 'zil-lwb'\").droplevel(0)\n",
    "print(\"zil-lwb\")\n",
    "display(baseline.sort_index())\n",
    "display(data.query(\"test_subject == 'zil-pmem'\").sort_index())"
   ]
  },
  {
   "cell_type": "code",
   "execution_count": null,
   "metadata": {},
   "outputs": [],
   "source": [
    "# divide by baseline\n",
    "speedup = data.divide(baseline, level=1)\n",
    "speedup.query(\"test_subject == 'zil-pmem'\")[\"w_iops_mean\"].sort_index()"
   ]
  },
  {
   "cell_type": "code",
   "execution_count": null,
   "metadata": {},
   "outputs": [],
   "source": [
    "d = speedup[\"w_iops_mean\"].reset_index()\n",
    "d = d.query(\"test_subject != 'devdax'\")\n",
    "\n",
    "subjects = test_subject_order.copy()\n",
    "subjects.remove(\"devdax\")\n",
    " # subjects must be ordered like test_subject_order otherwise the legend is off\n",
    "def value_list_is_sorted(l, key):\n",
    "    \"\"\"can't believe python doesn't have this\"\"\"\n",
    "    return l == sorted(l, key=key)\n",
    "assert value_list_is_sorted(subjects, test_subject_order.index)\n",
    "d = d[d.test_subject.isin(subjects)]\n",
    "\n",
    "\n",
    "plt.figure(figsize=(textwidth, 3))\n",
    "ax = plt.axes()\n",
    "lp = sns.lineplot(data=d, x='numjobs', y='w_iops_mean', hue='test_subject', style='test_subject', markers=True,\n",
    "                  hue_order=test_subject_order, style_order=test_subject_order, legend=False,\n",
    "                  ax=ax)\n",
    "lp.set_ylim((0, 12))\n",
    "lp.set_title(\"Speedup of IOPS (Baseline: zil-lwb)\", pad=16)\n",
    "lp.set_ylabel(\"Speedup\")\n",
    "lp.legend(subjects, loc='lower center')\n"
   ]
  },
  {
   "cell_type": "code",
   "execution_count": null,
   "metadata": {
    "scrolled": true
   },
   "outputs": [],
   "source": [
    "speedup = speedup.w_iops_mean"
   ]
  },
  {
   "cell_type": "code",
   "execution_count": null,
   "metadata": {},
   "outputs": [],
   "source": [
    "speedup = speedup.rename('speedup')"
   ]
  },
  {
   "cell_type": "markdown",
   "metadata": {},
   "source": [
    "## Big Comparison"
   ]
  },
  {
   "cell_type": "code",
   "execution_count": null,
   "metadata": {},
   "outputs": [],
   "source": [
    "fig, axes = plt.subplots(2, 2, figsize=(textwidth, 5), gridspec_kw=dict(hspace=0.2, wspace=0.25))\n",
    "\n",
    "xlim=(0.8,8.2)\n",
    "\n",
    "plt_abs_compare([\"fsdax\", \"async\", \"zil-lwb\", \"zil-pmem\"], 'speedup', 'Speedup', None,\n",
    "               ax=axes[1,0], data=pd.DataFrame(speedup),\n",
    "               xlim=xlim,\n",
    "               )\n",
    "axes[1,0].set_yticks(range(0, 20, 4))\n",
    "\n",
    "plt_abs_compare([\"fsdax\", \"async\", \"zil-lwb\", \"zil-pmem\"], \"w_iops_mean_k\", \"kIOPS\", None,\n",
    "               ylim=(1, 1_000),\n",
    "               xlim=xlim,\n",
    "               ax=axes[0, 0])\n",
    "\n",
    "plt_abs_compare([\"fsdax\", \"async\", \"zil-lwb\", \"zil-pmem\"], \"w_lat_mean_us\", \"Latency [us]\", None,\n",
    "#                ylim=(0, None),\n",
    "               xlim=xlim,\n",
    "               ax=axes[0, 1],\n",
    "               )\n",
    "\n",
    "plt_abs_compare([\"fsdax\", \"async\", \"zil-lwb\", \"zil-pmem\"], \"w_lat_mean_us\", \"Latency zoomed [us]\", None,\n",
    "               ylim=(2, 25),\n",
    "               xlim=xlim,\n",
    "               ax=axes[1, 1])\n",
    "\n",
    "axes[0, 0].set_xticklabels([])\n",
    "axes[0, 1].set_xticklabels([])\n",
    "\n",
    "axes[1,1].set_xlabel(\"numjobs\")\n",
    "axes[1,0].set_xlabel(\"numjobs\")\n",
    "\n",
    "handles, labels = axes[0,0].get_legend_handles_labels()\n",
    "fig.legend(handles, labels, loc='center', bbox_to_anchor=(0.5, 0), ncol=4)\n",
    "\n",
    "dstools.savefig(\"fio4k__zilpmem_results\")"
   ]
  },
  {
   "cell_type": "markdown",
   "metadata": {},
   "source": [
    "### We noticed that speedup varies significantly between runs for small `numjobs`, so let's investigate this by computing the Coefficient of Variation (CoV)"
   ]
  },
  {
   "cell_type": "code",
   "execution_count": null,
   "metadata": {
    "scrolled": false
   },
   "outputs": [],
   "source": [
    "data = df.copy()\n",
    "data = data.set_index([\"test_subject\", \"numjobs\"])\n",
    "data = data.loc[['zil-lwb', 'zil-pmem', 'async', 'fsdax'], ].copy()\n",
    "\n",
    "cov = (data.w_iops_stddev / data.w_iops_mean)\n",
    "data['CoV'] = cov\n",
    "data['w_iops_stddev_k'] = data.w_iops_stddev / 1_000\n",
    "data['w_iops_mean_k'] = data.w_iops_mean / 1_000\n",
    "\n",
    "fig = plt.figure(figsize=(textwidth,4))\n",
    "gs = fig.add_gridspec(4, 2, hspace=0.5, wspace=0.25)\n",
    "\n",
    "ax = fig.add_subplot(gs[0:, 0])\n",
    "plt_abs_compare([\"fsdax\", \"async\", \"zil-lwb\", \"zil-pmem\"], 'CoV', 'Coefficient of Variation', None,\n",
    "               ax=ax, data=data,\n",
    "                ylim=(0, 0.3)\n",
    "               )\n",
    "\n",
    "handles, labels = ax.get_legend_handles_labels()\n",
    "fig.legend(handles, labels, loc='center', bbox_to_anchor=(0.5, 0), ncol=4)\n",
    "\n",
    "ax = fig.add_subplot(gs[0:2, 1])\n",
    "plt_abs_compare([\"fsdax\", \"async\", \"zil-lwb\", \"zil-pmem\"], 'w_iops_mean_k', 'Mean [kIOPS]', None,\n",
    "               ax=ax, data=data\n",
    "               )\n",
    "ax.set_xticklabels([])\n",
    "\n",
    "ax = fig.add_subplot(gs[2:, 1])\n",
    "plt_abs_compare([\"fsdax\", \"async\", \"zil-lwb\", \"zil-pmem\"], 'w_iops_stddev_k', 'Stddev [kIOPS]', None,\n",
    "               ax=ax, data=data\n",
    "               )\n",
    "\n",
    "dstools.savefig(\"fio4k__coefficient_of_variation\")"
   ]
  },
  {
   "cell_type": "markdown",
   "metadata": {},
   "source": [
    "## Latency Percentiles"
   ]
  },
  {
   "cell_type": "code",
   "execution_count": null,
   "metadata": {},
   "outputs": [],
   "source": [
    "data = df.copy()\n",
    "data = data.set_index(['test_subject', 'numjobs'])\n",
    "data = data[[f'clat_p{n9}' for n9 in ['5', '95', '99', '999', '9999']]].rename_axis(\"percentile\", axis=1)\n",
    "data.columns = data.columns.str.replace(\"clat_\", \"\")\n",
    "# display(data)\n",
    "\n",
    "# data.reset_index().pivot(index=['percentile', 'numjobs'], columns='test_subject')\n",
    "data = data.stack().rename(\"latency [us]\")\n",
    "data = data / 1_000\n",
    "data = data.reset_index()\n",
    "data"
   ]
  },
  {
   "cell_type": "code",
   "execution_count": null,
   "metadata": {
    "scrolled": false
   },
   "outputs": [],
   "source": [
    "tmp = data.set_index(['test_subject', 'numjobs', 'percentile']).sort_index().copy()\n",
    "\n",
    "\n",
    "pMarkers = dict(zip(sorted(list(set(tmp.index.get_level_values('percentile')))), marker.values()))\n",
    "\n",
    "def drawCol(subject, ax):\n",
    "    d = tmp.loc[subject, 'latency [us]'].unstack('percentile')\n",
    "    \n",
    "    for col in d.columns:\n",
    "        ax.plot(d.index, d[col], label=col, marker=pMarkers[col])\n",
    "    ax.set_title(subject)\n",
    "    ax.set_xticks(range(0, 10, 2))\n",
    "    ax.set_xlim(0.8, 8.1)\n",
    "    ax.set_xlabel('numjobs')\n",
    "    \n",
    "fig, axes = plt.subplots(1, 3, figsize=(textwidth, 1.8), gridspec_kw={'wspace': 0.4})\n",
    "drawCol('zil-lwb', axes[0])\n",
    "drawCol('zil-pmem', axes[1])\n",
    "drawCol('async', axes[2])\n",
    "handles, labels = axes[2].get_legend_handles_labels()\n",
    "fig.legend(handles, labels, ncol=5, loc='center', bbox_to_anchor=(0.5, -0.2))\n",
    "\n",
    "axes[0].set_ylim(0, 800)\n",
    "axes[1].set_ylim(0, 80)\n",
    "axes[2].set_ylim(0, 80)\n",
    "\n",
    "fig.supylabel('latency [us]', x=0.02, fontsize=10)\n",
    "\n",
    "\n",
    "dstools.savefig(\"fio4k__tail_latencies\")"
   ]
  },
  {
   "cell_type": "code",
   "execution_count": null,
   "metadata": {},
   "outputs": [],
   "source": []
  }
 ],
 "metadata": {
  "celltoolbar": "Tags",
  "kernelspec": {
   "display_name": "Python 3",
   "language": "python",
   "name": "python3"
  },
  "language_info": {
   "codemirror_mode": {
    "name": "ipython",
    "version": 3
   },
   "file_extension": ".py",
   "mimetype": "text/x-python",
   "name": "python",
   "nbconvert_exporter": "python",
   "pygments_lexer": "ipython3",
   "version": "3.9.2"
  }
 },
 "nbformat": 4,
 "nbformat_minor": 4
}
