{
 "cells": [
  {
   "cell_type": "code",
   "execution_count": null,
   "metadata": {},
   "outputs": [],
   "source": [
    "import pandas as pd\n",
    "import glob\n",
    "import json\n",
    "import dotted # https://pypi.org/project/dotted-notation/\n",
    "import re\n",
    "import matplotlib.pyplot as plt\n",
    "\n",
    "from pathlib import Path\n",
    "import seaborn as sns\n",
    "import lib.datasciencetoolbelt as dstools\n",
    "from lib.resultstorage import ResultStorage"
   ]
  },
  {
   "cell_type": "code",
   "execution_count": null,
   "metadata": {},
   "outputs": [],
   "source": [
    "dstools.setup({\n",
    "    \"seaborn_context\": \"talk\",\n",
    "    \"savefig\": {\n",
    "        \"enable\": True,\n",
    "        \"dir\": Path(\"./postprocess_results\"),\n",
    "    }\n",
    "})\n",
    "result_storage = ResultStorage(Path(\"./results\"))\n",
    "\n",
    "#%matplotlib qt\n",
    "%matplotlib inline\n"
   ]
  },
  {
   "cell_type": "code",
   "execution_count": null,
   "metadata": {},
   "outputs": [],
   "source": [
    "def zfs_recordsize_to_bytes(i: str):\n",
    "    match = re.search(r\"^(?P<number>\\d+)(?P<unit>[kmg])\", i)\n",
    "    f = {\n",
    "        \"k\": 1024,\n",
    "        \"m\": 1024 * 1024,\n",
    "        \"g\": 1024 * 1024 * 1024,\n",
    "    }\n",
    "    return int(match[\"number\"]) * f[match[\"unit\"]]"
   ]
  },
  {
   "cell_type": "code",
   "execution_count": null,
   "metadata": {},
   "outputs": [],
   "source": [
    "           \n",
    "def to_row_dict(output_json):\n",
    "    d = output_json\n",
    "    jobs = dotted.get(d, \"fio_jsonplus.jobs\")\n",
    "    assert len(jobs) == 1\n",
    "    j0 = jobs[0]\n",
    "    jw = jobs[0][\"write\"]\n",
    "    \n",
    "    fio_blocksize = dotted.get(d,\"fio_config.blocksize\")\n",
    "\n",
    "    \n",
    "    if dotted.get(d, \"test_subject\") in [\"devdax\", \"fsdax\"]:\n",
    "        pass\n",
    "    else:\n",
    "        zfs_recordsize = zfs_recordsize_to_bytes( dotted.get(d, \"zfs_setup.filesystem_properties.recordsize\"))\n",
    "        assert zfs_recordsize == fio_blocksize\n",
    "    \n",
    "    return {\n",
    "        \"test_subject\": dotted.get(d, \"test_subject\"),\n",
    "        \"numjobs\": int(dotted.get(d, \"fio_config.numjobs\")),\n",
    "        \"sync\": int(dotted.get(d, \"fio_config.sync\")),\n",
    "        \"size\": int(dotted.get(d, \"fio_config.size\")),\n",
    "        \"blocksize\": fio_blocksize,\n",
    "        \"w_iops\": jw[\"iops\"],\n",
    "        \"w_iops_mean\": jw[\"iops_mean\"],\n",
    "        \"w_iops_stddev\": jw[\"iops_stddev\"],\n",
    "        \"w_io_bytes\": jw[\"io_bytes\"],\n",
    "        \"bw_mean\": jw[\"bw_mean\"],\n",
    "        \"bw_dev\": jw[\"bw_dev\"],\n",
    "        \"w_lat_mean\": dotted.get(jw, \"lat_ns.mean\"),\n",
    "        \"w_lat_stddev\": dotted.get(jw, \"lat_ns.stddev\"),\n",
    "    }\n",
    "    "
   ]
  },
  {
   "cell_type": "code",
   "execution_count": null,
   "metadata": {},
   "outputs": [],
   "source": [
    "rows = [to_row_dict(j) for j in result_storage.iter_results(\"perf\")]\n",
    "df = pd.DataFrame.from_dict(rows)"
   ]
  },
  {
   "cell_type": "code",
   "execution_count": null,
   "metadata": {},
   "outputs": [],
   "source": [
    "df"
   ]
  },
  {
   "cell_type": "markdown",
   "metadata": {},
   "source": [
    "# A Few Assertions About The Data"
   ]
  },
  {
   "cell_type": "code",
   "execution_count": null,
   "metadata": {},
   "outputs": [],
   "source": [
    "# all plots below assume that the series did not vary blocksize\n",
    "blocksizes = set(df['blocksize'])\n",
    "assert blocksizes == set({4096})\n",
    "\n",
    "# assert size is 200MiB (we need this small block size so that main pool throughput is not the bottleneck)\n",
    "assert set(df['size']) == {200 * (1<<20)}"
   ]
  },
  {
   "cell_type": "markdown",
   "metadata": {},
   "source": [
    "# First Of All Clarify Difference Between `w_iops` and `w_iops_mean`"
   ]
  },
  {
   "cell_type": "code",
   "execution_count": null,
   "metadata": {},
   "outputs": [],
   "source": [
    "data = df.copy()\n",
    "data = data.melt(id_vars=[\"test_subject\", \"numjobs\"], value_vars=[\"w_iops\", \"w_iops_mean\"])\n",
    "data"
   ]
  },
  {
   "cell_type": "code",
   "execution_count": null,
   "metadata": {},
   "outputs": [],
   "source": [
    "g = sns.FacetGrid(data, col=\"test_subject\", col_wrap=2, height=6, aspect=1.5)\n",
    "g.map_dataframe(sns.lineplot, x='numjobs', y='value', hue='variable')\n",
    "g.add_legend()"
   ]
  },
  {
   "cell_type": "markdown",
   "metadata": {},
   "source": [
    "=> We see the effect of `end_fsync=1`\n",
    "\n",
    "==> Proceed with `w_iops_mean` for our experiments because we don't care about the performance of the main pool."
   ]
  },
  {
   "cell_type": "markdown",
   "metadata": {},
   "source": [
    "# 4k write absolute comparison IOPS"
   ]
  },
  {
   "cell_type": "code",
   "execution_count": null,
   "metadata": {},
   "outputs": [],
   "source": [
    "def plt_abs_compare_iops_and_latency(subjects):    \n",
    "    data = df.copy()\n",
    "    data = data.melt(id_vars=[\"test_subject\", \"numjobs\"], value_vars=[\"w_iops_mean\", \"w_iops_stddev\"])\n",
    "    \n",
    "    data = data[data.test_subject.isin(subjects)]\n",
    "\n",
    "    g = sns.FacetGrid(data, col=\"variable\", height=6, sharey=False)\n",
    "    g.map_dataframe(sns.lineplot, x='numjobs', y='value', hue='test_subject', style='test_subject', markers=True)\n",
    "    g.add_legend()"
   ]
  },
  {
   "cell_type": "code",
   "execution_count": null,
   "metadata": {},
   "outputs": [],
   "source": [
    "test_subject_order = [\"devdax\", \"fsdax\", \"async\", \"zil-lwb\", \"zil-pmem\"]\n",
    "iops_ylim = (0, 630000)"
   ]
  },
  {
   "cell_type": "code",
   "execution_count": null,
   "metadata": {},
   "outputs": [],
   "source": [
    "def plt_abs_compare(subjects, value, title, unit, ylim=None, xlim=None):\n",
    "    data = df.copy()\n",
    "#     data = data.melt(id_vars=[\"test_subject\", \"numjobs\"], value_vars=[value])\n",
    "\n",
    "    # subjects must be ordered like test_subject_order otherwise the legend is off\n",
    "    def value_list_is_sorted(l, key):\n",
    "        \"\"\"can't believe python doesn't have this\"\"\"\n",
    "        return l == sorted(l, key=key)\n",
    "    assert value_list_is_sorted(subjects, test_subject_order.index)\n",
    "    \n",
    "    data = data[data.test_subject.isin(subjects)]\n",
    "\n",
    "    f = plt.figure(figsize=(8, 6))\n",
    "    lp = sns.lineplot(data=data, x='numjobs', y=value, hue='test_subject', style='test_subject', markers=True,\n",
    "                      hue_order=test_subject_order, style_order=test_subject_order, legend=False)\n",
    "    lp.set_title(title, pad=16)\n",
    "    lp.set_ylabel(unit)\n",
    "    lp.set_xticks(range(2, 17, 2))\n",
    "    lp.set_ylim(ylim)\n",
    "    lp.set_xlim(xlim)\n",
    "    lp.set_xlabel(\"Number of fio threads (--numjobs)\")\n",
    "    if len(subjects) > 1:\n",
    "        lp.legend(subjects)"
   ]
  },
  {
   "cell_type": "code",
   "execution_count": null,
   "metadata": {},
   "outputs": [],
   "source": [
    "plt_abs_compare([\"devdax\", \"fsdax\"], \"w_iops_mean\", \"Raw PMEM 4k Write Performance\", \"IOPS\",\n",
    "                ylim=iops_ylim)\n",
    "dstools.savefig(\"4k_rawpmem_iops\")\n",
    "plt_abs_compare([\"devdax\", \"fsdax\"], \"w_lat_mean\", \"Raw PMEM 4k Write Latency (ioengine=dev-dax)\", \"Latency (usec)\")\n",
    "dstools.savefig(\"4k_rawpmem_lat\")"
   ]
  },
  {
   "cell_type": "code",
   "execution_count": null,
   "metadata": {},
   "outputs": [],
   "source": [
    "data = df.copy()\n",
    "display(data[data.test_subject == \"devdax\"][\"w_iops_mean\"].max())"
   ]
  },
  {
   "cell_type": "code",
   "execution_count": null,
   "metadata": {},
   "outputs": [],
   "source": [
    "# IMPORTANT NOTE: the ordering of the variables must be the same as test_subject_order\n",
    "plt_abs_compare([\"devdax\", \"fsdax\", \"async\", \"zil-lwb\"], \"w_iops_mean\", \"ZFS: Async vs Sync Write Performance\", \"IOPS\",\n",
    "               ylim=iops_ylim)\n",
    "dstools.savefig(\"4k_async_vs_sync_perf\")\n",
    "plt_abs_compare([\"devdax\", \"fsdax\", \"async\", \"zil-lwb\"], \"w_lat_mean\", \"ZFS: Async vs Sync Write Latency\", \"nano seconds\",\n",
    "               ylim=(1, 175 * 1000))\n",
    "dstools.savefig(\"4k_async_vs_sync_lat\")"
   ]
  },
  {
   "cell_type": "code",
   "execution_count": null,
   "metadata": {},
   "outputs": [],
   "source": [
    "data = df.copy()\n",
    "data = data.pivot_table(values=\"w_lat_mean\", index=[\"numjobs\", \"test_subject\"])\n",
    "data = data.query('numjobs in [1, 4, 8]')\n",
    "data = data.unstack(level=0)\n",
    "# latencies\n",
    "display((data / 1000).round(1))\n",
    "# speedup\n",
    "\n",
    "zil_lwb = data.query(\"test_subject == 'zil-lwb'\")\n",
    "assert len(zil_lwb) == 1\n",
    "# display(zil_lwb.iloc[0])\n",
    "\n",
    "zil_pmem = data.query(\"test_subject == 'zil-pmem'\")\n",
    "assert len(zil_pmem) == 1\n",
    "# display(zil_pmem.iloc[0])\n",
    "\n",
    "display((zil_lwb.reset_index(drop=True) / zil_pmem.reset_index(drop=True)).round(1))"
   ]
  },
  {
   "cell_type": "code",
   "execution_count": null,
   "metadata": {},
   "outputs": [],
   "source": [
    "plt_abs_compare([\"fsdax\", \"async\", \"zil-lwb\", \"zil-pmem\"], \"w_iops_mean\", \"ZIL-PMEM Performance Comparison\", \"IOPS\",\n",
    "               ylim=iops_ylim)\n",
    "dstools.savefig(\"4k_zil_pmem_perf\")\n",
    "plt_abs_compare([\"fsdax\", \"async\", \"zil-lwb\", \"zil-pmem\"], \"w_lat_mean\", \"ZIL-PMEM Latency Comparison\", \"nano seconds\",\n",
    "               ylim=(1, 175 * 1000))\n",
    "dstools.savefig(\"4k_zil_pmem_lat\")\n",
    "plt_abs_compare([\"fsdax\", \"async\", \"zil-pmem\"], \"w_lat_mean\", \"ZIL-PMEM Latency Comparison\", \"nano seconds\",\n",
    "               ylim=(1, 30 * 1000), xlim=(0, 8))\n",
    "dstools.savefig(\"4k_zil_pmem_lat_zoomed\")"
   ]
  },
  {
   "cell_type": "markdown",
   "metadata": {},
   "source": [
    "# 4k write speedup in IOPS (zil-lwb as baseline, without devdax)"
   ]
  },
  {
   "cell_type": "code",
   "execution_count": null,
   "metadata": {},
   "outputs": [],
   "source": [
    "data = df.copy()\n",
    "data = data.filter([\"test_subject\", \"numjobs\", \"w_iops_mean\", \"w_iops_stddev\"], axis=1)\n",
    "data = data.set_index([\"test_subject\", \"numjobs\"], drop=True)\n",
    "baseline = data.query(\"test_subject == 'zil-lwb'\").droplevel(0)\n",
    "baseline"
   ]
  },
  {
   "cell_type": "code",
   "execution_count": null,
   "metadata": {},
   "outputs": [],
   "source": [
    "df.query(\"test_subject == 'zil-pmem'\")"
   ]
  },
  {
   "cell_type": "code",
   "execution_count": null,
   "metadata": {},
   "outputs": [],
   "source": [
    "# divide by baseline\n",
    "speedup = data.divide(baseline, level=1)\n",
    "speedup.query(\"test_subject == 'zil-pmem'\")[\"w_iops_mean\"]"
   ]
  },
  {
   "cell_type": "code",
   "execution_count": null,
   "metadata": {},
   "outputs": [],
   "source": [
    "d = speedup[\"w_iops_mean\"].reset_index()\n",
    "d = d.query(\"test_subject != 'devdax'\")\n",
    "\n",
    "subjects = test_subject_order.copy()\n",
    "subjects.remove(\"devdax\")\n",
    " # subjects must be ordered like test_subject_order otherwise the legend is off\n",
    "def value_list_is_sorted(l, key):\n",
    "    \"\"\"can't believe python doesn't have this\"\"\"\n",
    "    return l == sorted(l, key=key)\n",
    "assert value_list_is_sorted(subjects, test_subject_order.index)\n",
    "d = d[d.test_subject.isin(subjects)]\n",
    "\n",
    "\n",
    "plt.figure(figsize=(8, 6))\n",
    "ax = plt.axes()\n",
    "lp = sns.lineplot(data=d, x='numjobs', y='w_iops_mean', hue='test_subject', style='test_subject', markers=True,\n",
    "                  hue_order=test_subject_order, style_order=test_subject_order, legend=False,\n",
    "                  ax=ax)\n",
    "lp.set_ylim((0, 12))\n",
    "lp.set_title(\"Speedup of IOPS (Baseline: zil-lwb)\", pad=16)\n",
    "lp.set_ylabel(\"Speedup\")\n",
    "lp.legend(subjects)\n",
    "\n",
    "dstools.savefig(\"4k_speedup_lwb_baseline\")"
   ]
  },
  {
   "cell_type": "markdown",
   "metadata": {},
   "source": [
    "# 4k sync write latency corridor"
   ]
  },
  {
   "cell_type": "code",
   "execution_count": null,
   "metadata": {},
   "outputs": [],
   "source": [
    "plt_abs_compare([\"async\", \"zil-lwb\", \"zil-pmem\"], \"w_lat_mean\", \"ZIL-PMEM Latency Comparison (2)\", \"nano seconds\",\n",
    "               ylim=(1, None))\n",
    "dstools.savefig(\"4k_zil_pmem_lat_2\")"
   ]
  },
  {
   "cell_type": "markdown",
   "metadata": {},
   "source": [
    "# Data Export For Use In Latency Breakdown"
   ]
  },
  {
   "cell_type": "code",
   "execution_count": null,
   "metadata": {},
   "outputs": [],
   "source": [
    "df.query(\"test_subject == 'devdax'\").set_index(\"numjobs\").filter([\"w_lat_mean\"]).to_json(orient=\"table\")"
   ]
  },
  {
   "cell_type": "code",
   "execution_count": null,
   "metadata": {},
   "outputs": [],
   "source": []
  }
 ],
 "metadata": {
  "kernelspec": {
   "display_name": "Python 3",
   "language": "python",
   "name": "python3"
  },
  "language_info": {
   "codemirror_mode": {
    "name": "ipython",
    "version": 3
   },
   "file_extension": ".py",
   "mimetype": "text/x-python",
   "name": "python",
   "nbconvert_exporter": "python",
   "pygments_lexer": "ipython3",
   "version": "3.7.3"
  }
 },
 "nbformat": 4,
 "nbformat_minor": 4
}
